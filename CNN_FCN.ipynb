{
  "nbformat": 4,
  "nbformat_minor": 0,
  "metadata": {
    "colab": {
      "name": "CNN+FCN_project.ipynb",
      "provenance": [],
      "collapsed_sections": [],
      "machine_shape": "hm"
    },
    "kernelspec": {
      "name": "python3",
      "display_name": "Python 3"
    },
    "language_info": {
      "name": "python"
    },
    "accelerator": "GPU"
  },
  "cells": [
    {
      "cell_type": "code",
      "source": [
        "from google.colab import drive\n",
        "drive.mount('/content/drive')"
      ],
      "metadata": {
        "id": "dIhZIfjK4ALu",
        "colab": {
          "base_uri": "https://localhost:8080/"
        },
        "outputId": "ec3f1cb6-1ca6-4a74-aef5-34e3edc73d89"
      },
      "execution_count": null,
      "outputs": [
        {
          "output_type": "stream",
          "name": "stdout",
          "text": [
            "Mounted at /content/drive\n"
          ]
        }
      ]
    },
    {
      "cell_type": "code",
      "metadata": {
        "id": "qy8yfCYmhqj5"
      },
      "source": [
        "!cp /content/drive/MyDrive/project/utils.py /content/utils.py"
      ],
      "execution_count": null,
      "outputs": []
    },
    {
      "cell_type": "code",
      "metadata": {
        "id": "JTXfAFaCiIFN"
      },
      "source": [
        "pip install python-dotenv"
      ],
      "execution_count": null,
      "outputs": []
    },
    {
      "cell_type": "code",
      "metadata": {
        "id": "PLeolJdKotv3"
      },
      "source": [
        "import pandas as pd\n",
        "import numpy as np\n",
        "import cv2\n",
        "from time import perf_counter\n",
        "\n",
        "import librosa\n",
        "import librosa.display\n",
        "\n",
        "import utils"
      ],
      "execution_count": null,
      "outputs": []
    },
    {
      "cell_type": "code",
      "metadata": {
        "id": "UXVzWgdY4-Ih"
      },
      "source": [
        "!cp /content/drive/MyDrive/project/raw_tracks.csv /content/raw_tracks.csv\n",
        "!cp /content/drive/MyDrive/project/mels2.zip /content/mels2.zip\n",
        "!cp /content/drive/MyDrive/project/mel_data.zip /content/mel_data.zip\n",
        "!cp /content/drive/MyDrive/project/files2.txt /content/files2.txt"
      ],
      "execution_count": null,
      "outputs": []
    },
    {
      "cell_type": "code",
      "metadata": {
        "id": "6sap3zKZQM6f"
      },
      "source": [
        "!cp /content/drive/MyDrive/project/fma_metadata/tracks.csv /content/tracks.csv\n",
        "!cp /content/drive/MyDrive/project/fma_metadata/genres.csv /content/genres.csv\n",
        "!cp /content/drive/MyDrive/project/fma_metadata/features.csv /content/features.csv\n",
        "!cp /content/drive/MyDrive/project/fma_metadata/echonest.csv /content/echonest.csv"
      ],
      "execution_count": null,
      "outputs": []
    },
    {
      "cell_type": "code",
      "metadata": {
        "id": "AiqFrPAQVgpm"
      },
      "source": [
        "!unzip mels2.zip -d ."
      ],
      "execution_count": null,
      "outputs": []
    },
    {
      "cell_type": "code",
      "source": [
        "!unzip mel_data.zip -d ."
      ],
      "metadata": {
        "id": "rqGzXpQV4Ce_"
      },
      "execution_count": null,
      "outputs": []
    },
    {
      "cell_type": "code",
      "source": [
        "!pip install gdown\n",
        "!gdown https://drive.google.com/uc?id=1gRsH7jKwJdd25_i2A-12N3Oreomjo_D9\n",
        "!gdown https://drive.google.com/uc?id=183Hiz07XrY8wVCHGjEShFvjyetV9Xy7d\n",
        "!gdown https://drive.google.com/uc?id=1mrHpV_DXp-ev-_jTzjAGSOzxHVK0z-_4"
      ],
      "metadata": {
        "id": "ibx66pBJOAIg"
      },
      "execution_count": null,
      "outputs": []
    },
    {
      "cell_type": "code",
      "metadata": {
        "id": "kcFbnTdWPY_i"
      },
      "source": [
        "DOWNSAMPLE_HEIGHT = 128\n",
        "DOWNSAMPLE_WIDTH = 1291"
      ],
      "execution_count": null,
      "outputs": []
    },
    {
      "cell_type": "code",
      "metadata": {
        "id": "jc_EwvuoD5Kq"
      },
      "source": [
        "import ast\n",
        "f = open(\"files2.txt\", \"r\")\n",
        "data = f.read()\n",
        "indices = ast.literal_eval(data)\n",
        "f.close()"
      ],
      "execution_count": null,
      "outputs": []
    },
    {
      "cell_type": "code",
      "metadata": {
        "id": "pgKhoRXcNpqV"
      },
      "source": [
        "track_data = pd.read_csv(\"raw_tracks.csv\", index_col = 0)\n",
        "data = track_data[\"track_genres\"][np.array(indices).astype(int)]\n",
        "# track_data[\"track_genres\"]"
      ],
      "execution_count": null,
      "outputs": []
    },
    {
      "cell_type": "code",
      "metadata": {
        "id": "_hmt4uXlSV6O"
      },
      "source": [
        "data_dict = dict()\n",
        "for i in data.keys():\n",
        "    data_dict[i] = ast.literal_eval(data[i])[0][\"genre_title\"] #data_dict contains track_ids as keys and genre_ids as values"
      ],
      "execution_count": null,
      "outputs": []
    },
    {
      "cell_type": "code",
      "metadata": {
        "id": "OYRSTMJii3PY"
      },
      "source": [
        "tracks = utils.load('drive/MyDrive/project/fma_metadata/tracks.csv')\n",
        "features = utils.load('/content/drive/MyDrive/project/fma_metadata/features.csv')"
      ],
      "execution_count": null,
      "outputs": []
    },
    {
      "cell_type": "code",
      "metadata": {
        "id": "qsxHQ05HZHmD"
      },
      "source": [
        "small = tracks['set', 'subset'] <= 'small'\n",
        "\n",
        "train = tracks['set', 'split'] == 'training'\n",
        "val = tracks['set', 'split'] == 'validation'\n",
        "test = tracks['set', 'split'] == 'test'\n",
        "\n",
        "y_train_initial = tracks.loc[small & train, ('track', 'genre_top')]\n",
        "y_test_initial = tracks.loc[small & test, ('track', 'genre_top')]\n",
        "y_val_initial = tracks.loc[small & val, ('track', 'genre_top')]\n",
        "\n",
        "y_train_initial = y_train_initial.to_frame()\n",
        "y_test_initial = y_test_initial.to_frame()\n",
        "y_val_initial = y_val_initial.to_frame()\n",
        "\n",
        "x_train_f_inital = features.loc[small & train, 'mfcc']\n",
        "x_test_f_inital = features.loc[small & test, 'mfcc']\n",
        "x_val_f_inital = features.loc[small & val, 'mfcc']\n",
        "\n",
        "deleted = [99134, 108925, 133297, 98565, 98567, 98569]\n",
        "x_train_f_inital.drop(labels = deleted, axis = 0, inplace = True)\n",
        "\n",
        "x_train_f_inital = x_train_f_inital.to_numpy()\n",
        "x_test_f_inital = x_test_f_inital.to_numpy()\n",
        "x_val_f_inital = x_val_f_inital.to_numpy()\n",
        "\n",
        "\n",
        "genres = ('Electronic', 'Experimental', 'Folk', 'Hip-Hop', 'Instrumental', 'International', 'Pop', 'Rock')\n",
        "genres_dic = dict()\n",
        "cnt = 0\n",
        "for i in genres:\n",
        "  genres_dic[i] = cnt\n",
        "  cnt += 1"
      ],
      "execution_count": null,
      "outputs": []
    },
    {
      "cell_type": "code",
      "source": [
        "x_train_f_inital.shape"
      ],
      "metadata": {
        "id": "Rio0yEjLAnAL"
      },
      "execution_count": null,
      "outputs": []
    },
    {
      "cell_type": "code",
      "metadata": {
        "id": "URmgxRv3ZpIB"
      },
      "source": [
        "y_train_np = y_train_initial.to_numpy()\n",
        "y_test_np = y_test_initial.to_numpy()\n",
        "y_val_np = y_val_initial.to_numpy()\n",
        "\n",
        "y_train_np[0,0]"
      ],
      "execution_count": null,
      "outputs": []
    },
    {
      "cell_type": "code",
      "source": [
        "x_train_f = np.zeros((63940, 140))\n",
        "x_test_f = np.zeros((8000 , 140))\n",
        "x_val_f = np.zeros((8000 , 140))\n",
        "\n",
        "for i in range(63940):\n",
        "  x_train_f[i,:] = x_train_f_inital[int(i/5),:]\n",
        "for i in range(8000):\n",
        "  x_test_f[i,:] = x_test_f_inital[int(i/5),:]\n",
        "for i in range(8000):\n",
        "  x_val_f[i,:] = x_val_f_inital[int(i/5),:]"
      ],
      "metadata": {
        "id": "FxhSESGkWmex"
      },
      "execution_count": null,
      "outputs": []
    },
    {
      "cell_type": "code",
      "metadata": {
        "id": "TG5WpEynGznC"
      },
      "source": [
        "x_train = np.zeros((63940, 128, 128))\n",
        "x_test = np.zeros((8000 , 128, 128))\n",
        "x_val = np.zeros((8000 , 128, 128))\n",
        "\n",
        "for i in range(63940):\n",
        "  x_train_f[i,:] = x_train_f_inital[int(i/10),:]\n",
        "for i in range(8000):\n",
        "  x_test_f[i,:] = x_test_f_inital[int(i/10),:]\n",
        "for i in range(8000):\n",
        "  x_val_f[i,:] = x_val_f_inital[int(i/10),:]\n",
        "\n",
        "y_train = np.zeros(63940, dtype = int)\n",
        "y_test = np.zeros(8000, dtype = int)\n",
        "y_val = np.zeros(8000, dtype = int)\n",
        "\n",
        "i1, i2, i3, count = 0, 0, 0, 0\n",
        "for i in data_dict:\n",
        "    file = \"{:06d}\".format(i)\n",
        "    dir = file[:3]\n",
        "    track_id = int(file)\n",
        "    spec = np.loadtxt(f\"/content/mel_data/{dir}/{file}.txt\")\n",
        "    if spec.shape[1] > 1291:\n",
        "      spec = np.delete(spec, np.s_[1291:spec.shape[1]], axis=1) \n",
        "    if track_id in y_train_initial.index:\n",
        "      for j in range(10):\n",
        "        x_train[10*i1+j] = spec[:,128*j:128*(j+1)]\n",
        "        y_train[10*i1+j] = genres_dic[y_train_np[i1,0]]\n",
        "      i1 += 1\n",
        "      count += 1\n",
        "    elif track_id in y_test_initial.index:\n",
        "      for j in range(10):\n",
        "        x_test[10*i2+j] = spec[:,128*j:128*(j+1)]\n",
        "        y_test[10*i2+j] = genres_dic[y_test_np[i2,0]]\n",
        "      i2 += 1\n",
        "      count += 1\n",
        "    elif track_id in y_val_initial.index:\n",
        "      for j in range(10):\n",
        "        x_val[10*i3+j] = spec[:,128*j:128*(j+1)]\n",
        "        y_val[10*i3+j] = genres_dic[y_val_np[i3,0]]\n",
        "      i3 += 1\n",
        "      count += 1\n",
        "print(i1,i2,i3,count)      "
      ],
      "execution_count": null,
      "outputs": []
    },
    {
      "cell_type": "code",
      "metadata": {
        "id": "mxWQkSNsoSP4"
      },
      "source": [
        "i1, i2, i3"
      ],
      "execution_count": null,
      "outputs": []
    },
    {
      "cell_type": "code",
      "metadata": {
        "id": "kGUB1hMRXpFM"
      },
      "source": [
        "import matplotlib.pyplot as plt\n",
        "%matplotlib inline\n",
        "print(y_train[2405])\n",
        "plt.figure(figsize=(10, 5))\n",
        "librosa.display.specshow(x_train[2405], y_axis='mel', x_axis='time')\n",
        "plt.colorbar(format='%+2.0f dB')\n",
        "plt.title('Test Melspectogram')\n",
        "plt.tight_layout()\n",
        "\n",
        "# print(img_datas[3].shape)"
      ],
      "execution_count": null,
      "outputs": []
    },
    {
      "cell_type": "code",
      "source": [
        "x_train_cn = np.expand_dims(x_train, axis=3)\n",
        "x_test_cn = np.expand_dims(x_test, axis=3)\n",
        "x_val_cn = np.expand_dims(x_val, axis=3)"
      ],
      "metadata": {
        "id": "YiX4HCPruf3f"
      },
      "execution_count": null,
      "outputs": []
    },
    {
      "cell_type": "code",
      "source": [
        "x_train_f = np.expand_dims(x_train_f, axis=2)\n",
        "x_test_f = np.expand_dims(x_test_f, axis=2)\n",
        "x_val_f = np.expand_dims(x_test_f, axis=2)"
      ],
      "metadata": {
        "id": "lCkRQCpfY9uR"
      },
      "execution_count": null,
      "outputs": []
    },
    {
      "cell_type": "code",
      "source": [
        "x_train_cn.shape"
      ],
      "metadata": {
        "id": "LKTKhiwOV-2m"
      },
      "execution_count": null,
      "outputs": []
    },
    {
      "cell_type": "code",
      "source": [
        "x_train_f.shape"
      ],
      "metadata": {
        "id": "zaV2hrPzWASG"
      },
      "execution_count": null,
      "outputs": []
    },
    {
      "cell_type": "code",
      "source": [
        "y_train_cn = np.zeros((y_train.size, y_train.max()+1))\n",
        "y_train_cn[np.arange(y_train.size),y_train] = 1\n",
        "\n",
        "y_test_cn = np.zeros((y_test.size, y_test.max()+1))\n",
        "y_test_cn[np.arange(y_test.size),y_test] = 1\n",
        "\n",
        "y_val_cn = np.zeros((y_val.size, y_val.max()+1))\n",
        "y_val_cn[np.arange(y_val.size),y_val] = 1"
      ],
      "metadata": {
        "id": "-swubdrmpAvN"
      },
      "execution_count": null,
      "outputs": []
    },
    {
      "cell_type": "code",
      "source": [
        "import tensorflow as tf\n",
        "from keras import layers\n",
        "from keras.layers import (Input, Add, Dense, Activation, ZeroPadding2D, BatchNormalization, Flatten, \n",
        "                          Conv2D, AveragePooling2D, MaxPooling2D, GlobalMaxPooling2D, Dropout, GlobalAveragePooling2D)\n",
        "from keras.models import Model, load_model\n",
        "from keras.preprocessing import image\n",
        "from keras.utils import layer_utils\n",
        "import pydot\n",
        "from IPython.display import SVG\n",
        "from keras.utils.vis_utils import model_to_dot\n",
        "from keras.initializers import glorot_uniform\n",
        "\n",
        "from keras.models import Sequential, Model\n",
        "\n",
        "from keras.preprocessing.image import ImageDataGenerator\n",
        "from tensorflow.keras.layers import concatenate\n",
        "import random\n",
        "import keras.backend as K\n"
      ],
      "metadata": {
        "id": "b8aM1zF-rWHQ"
      },
      "execution_count": null,
      "outputs": []
    },
    {
      "cell_type": "code",
      "source": [
        "def GenCNN(cnn_input_shape = (128,128,1)):\n",
        "  CNN_input = Input(cnn_input_shape)\n",
        "\n",
        "  CNN = Conv2D(64,kernel_size=(3,3), padding=\"same\")(CNN_input)\n",
        "  CNN = BatchNormalization(axis=3)(CNN)\n",
        "  CNN = Activation('relu')(CNN)\n",
        "  #CNN = Dropout(rate=0.3)(CNN)\n",
        "  CNN = MaxPooling2D((2,2))(CNN)  \n",
        "  \n",
        "  CNN = Conv2D(128,kernel_size=(3,3), padding=\"same\")(CNN)\n",
        "  CNN = BatchNormalization()(CNN)\n",
        "  CNN = Activation('relu')(CNN)\n",
        "  #CNN = Dropout(rate=0.3)(CNN)\n",
        "  CNN = MaxPooling2D((2,2))(CNN)\n",
        "  \n",
        "  CNN = Conv2D(256,kernel_size=(3,3), padding=\"same\")(CNN)\n",
        "  CNN = BatchNormalization()(CNN)\n",
        "  CNN = Activation('relu')(CNN)\n",
        "  #CNN = Dropout(rate=0.3)(CNN)\n",
        "  CNN = MaxPooling2D((4,4))(CNN)\n",
        "  \n",
        "  CNN = Conv2D(512,kernel_size=(3,3), padding=\"same\")(CNN)\n",
        "  CNN = BatchNormalization()(CNN)\n",
        "  CNN = Activation('relu')(CNN)\n",
        "  #CNN = Dropout(rate=0.3)(CNN)\n",
        "  CNN = MaxPooling2D((4,4))(CNN)\n",
        "\n",
        "  CNN = Flatten()(CNN)\n",
        "  CNN = BatchNormalization()(CNN)\n",
        "  CNN = Dense(256, activation='relu')(CNN)\n",
        "  CNN = Dropout(rate=0.3)(CNN)\n",
        "  \n",
        "  modelCNN = Model(inputs=CNN_input, outputs=CNN, name='CNNModel')\n",
        "\n",
        "  return modelCNN"
      ],
      "metadata": {
        "id": "VGIeTRkmJtXo"
      },
      "execution_count": null,
      "outputs": []
    },
    {
      "cell_type": "code",
      "source": [
        "def GenFCN(fcn_input_shape = 140):\n",
        "  modelFCN = Sequential()\n",
        "  modelFCN.add(Dense(32, input_dim=140, activation=\"relu\"))\n",
        "  modelFCN.add(BatchNormalization())\n",
        "  modelFCN.add(Dense(16, activation=\"relu\", name='FCNModel'))\n",
        "\n",
        "  return modelFCN"
      ],
      "metadata": {
        "id": "93bbuNBoKMtg"
      },
      "execution_count": null,
      "outputs": []
    },
    {
      "cell_type": "code",
      "source": [
        "def GenModel(cnn_input_shape = (128,128,1), fcn_input_shape = (140), classes=8):\n",
        "  CNN = GenCNN(cnn_input_shape = cnn_input_shape)\n",
        "  FCN = GenFCN(140)\n",
        "  \n",
        "  combinedInput = concatenate([CNN.output, FCN.output])\n",
        "\n",
        "  x = BatchNormalization()(combinedInput)\n",
        "  x = Dense(16, activation=\"relu\")(x)\n",
        "  x = BatchNormalization()(x)\n",
        "  x = Dense(classes, activation='softmax', name='fc' + str(classes))(x)\n",
        "\n",
        "  model = Model(inputs=[CNN.input, FCN.input], outputs=x, name='FullModel')\n",
        "\n",
        "  return model"
      ],
      "metadata": {
        "id": "nrNOuSxkqSPZ"
      },
      "execution_count": null,
      "outputs": []
    },
    {
      "cell_type": "code",
      "source": [
        "K.clear_session()\n",
        "\n",
        "model = GenModel(cnn_input_shape=(128,128,1), fcn_input_shape=(140), classes=8)\n",
        "model.summary()"
      ],
      "metadata": {
        "colab": {
          "base_uri": "https://localhost:8080/"
        },
        "id": "GEKWMXs2vpG1",
        "outputId": "621c6390-f46a-44aa-a480-4d4aa203e7ed"
      },
      "execution_count": null,
      "outputs": [
        {
          "output_type": "stream",
          "name": "stdout",
          "text": [
            "Model: \"FullModel\"\n",
            "__________________________________________________________________________________________________\n",
            " Layer (type)                   Output Shape         Param #     Connected to                     \n",
            "==================================================================================================\n",
            " input_1 (InputLayer)           [(None, 128, 128, 1  0           []                               \n",
            "                                )]                                                                \n",
            "                                                                                                  \n",
            " conv2d (Conv2D)                (None, 128, 128, 64  640         ['input_1[0][0]']                \n",
            "                                )                                                                 \n",
            "                                                                                                  \n",
            " batch_normalization (BatchNorm  (None, 128, 128, 64  256        ['conv2d[0][0]']                 \n",
            " alization)                     )                                                                 \n",
            "                                                                                                  \n",
            " activation (Activation)        (None, 128, 128, 64  0           ['batch_normalization[0][0]']    \n",
            "                                )                                                                 \n",
            "                                                                                                  \n",
            " max_pooling2d (MaxPooling2D)   (None, 64, 64, 64)   0           ['activation[0][0]']             \n",
            "                                                                                                  \n",
            " conv2d_1 (Conv2D)              (None, 64, 64, 128)  73856       ['max_pooling2d[0][0]']          \n",
            "                                                                                                  \n",
            " batch_normalization_1 (BatchNo  (None, 64, 64, 128)  512        ['conv2d_1[0][0]']               \n",
            " rmalization)                                                                                     \n",
            "                                                                                                  \n",
            " activation_1 (Activation)      (None, 64, 64, 128)  0           ['batch_normalization_1[0][0]']  \n",
            "                                                                                                  \n",
            " max_pooling2d_1 (MaxPooling2D)  (None, 32, 32, 128)  0          ['activation_1[0][0]']           \n",
            "                                                                                                  \n",
            " conv2d_2 (Conv2D)              (None, 32, 32, 256)  295168      ['max_pooling2d_1[0][0]']        \n",
            "                                                                                                  \n",
            " batch_normalization_2 (BatchNo  (None, 32, 32, 256)  1024       ['conv2d_2[0][0]']               \n",
            " rmalization)                                                                                     \n",
            "                                                                                                  \n",
            " activation_2 (Activation)      (None, 32, 32, 256)  0           ['batch_normalization_2[0][0]']  \n",
            "                                                                                                  \n",
            " max_pooling2d_2 (MaxPooling2D)  (None, 8, 8, 256)   0           ['activation_2[0][0]']           \n",
            "                                                                                                  \n",
            " conv2d_3 (Conv2D)              (None, 8, 8, 512)    1180160     ['max_pooling2d_2[0][0]']        \n",
            "                                                                                                  \n",
            " batch_normalization_3 (BatchNo  (None, 8, 8, 512)   2048        ['conv2d_3[0][0]']               \n",
            " rmalization)                                                                                     \n",
            "                                                                                                  \n",
            " activation_3 (Activation)      (None, 8, 8, 512)    0           ['batch_normalization_3[0][0]']  \n",
            "                                                                                                  \n",
            " max_pooling2d_3 (MaxPooling2D)  (None, 2, 2, 512)   0           ['activation_3[0][0]']           \n",
            "                                                                                                  \n",
            " flatten (Flatten)              (None, 2048)         0           ['max_pooling2d_3[0][0]']        \n",
            "                                                                                                  \n",
            " dense_1_input (InputLayer)     [(None, 140)]        0           []                               \n",
            "                                                                                                  \n",
            " batch_normalization_4 (BatchNo  (None, 2048)        8192        ['flatten[0][0]']                \n",
            " rmalization)                                                                                     \n",
            "                                                                                                  \n",
            " dense_1 (Dense)                (None, 32)           4512        ['dense_1_input[0][0]']          \n",
            "                                                                                                  \n",
            " dense (Dense)                  (None, 256)          524544      ['batch_normalization_4[0][0]']  \n",
            "                                                                                                  \n",
            " batch_normalization_5 (BatchNo  (None, 32)          128         ['dense_1[0][0]']                \n",
            " rmalization)                                                                                     \n",
            "                                                                                                  \n",
            " dropout (Dropout)              (None, 256)          0           ['dense[0][0]']                  \n",
            "                                                                                                  \n",
            " FCNModel (Dense)               (None, 16)           528         ['batch_normalization_5[0][0]']  \n",
            "                                                                                                  \n",
            " concatenate (Concatenate)      (None, 272)          0           ['dropout[0][0]',                \n",
            "                                                                  'FCNModel[0][0]']               \n",
            "                                                                                                  \n",
            " batch_normalization_6 (BatchNo  (None, 272)         1088        ['concatenate[0][0]']            \n",
            " rmalization)                                                                                     \n",
            "                                                                                                  \n",
            " dense_2 (Dense)                (None, 16)           4368        ['batch_normalization_6[0][0]']  \n",
            "                                                                                                  \n",
            " batch_normalization_7 (BatchNo  (None, 16)          64          ['dense_2[0][0]']                \n",
            " rmalization)                                                                                     \n",
            "                                                                                                  \n",
            " fc8 (Dense)                    (None, 8)            136         ['batch_normalization_7[0][0]']  \n",
            "                                                                                                  \n",
            "==================================================================================================\n",
            "Total params: 2,097,224\n",
            "Trainable params: 2,090,568\n",
            "Non-trainable params: 6,656\n",
            "__________________________________________________________________________________________________\n"
          ]
        }
      ]
    },
    {
      "cell_type": "code",
      "source": [
        "def get_f1(y_true, y_pred): #taken from old keras source code\n",
        "    true_positives = K.sum(K.round(K.clip(y_true * y_pred, 0, 1)))\n",
        "    possible_positives = K.sum(K.round(K.clip(y_true, 0, 1)))\n",
        "    predicted_positives = K.sum(K.round(K.clip(y_pred, 0, 1)))\n",
        "    precision = true_positives / (predicted_positives + K.epsilon())\n",
        "    recall = true_positives / (possible_positives + K.epsilon())\n",
        "    f1_val = 2*(precision*recall)/(precision+recall+K.epsilon())\n",
        "    return f1_val\n",
        "\n",
        "callbacks = tf.keras.callbacks.ModelCheckpoint( 'model.{epoch:02d}-{val_loss:.2f}.h5', \n",
        "                                     monitor='val_loss', \n",
        "                                     verbose=0, \n",
        "                                     save_best_only=True)\n",
        "\n",
        "opt = tf.keras.optimizers.Adam(learning_rate=0.00005)\n",
        "model.compile(optimizer = opt,loss='categorical_crossentropy',metrics=['accuracy',get_f1]) \n",
        "\n",
        "import gc\n",
        "gc.collect()\n",
        "\n",
        "model.fit(x=[x_train_cn, x_train_f], y=y_train, epochs=50, batch_size = 16, validation_data=([x_test_cn, x_test_f], y_test), callbacks = callbacks)    "
      ],
      "metadata": {
        "id": "ekjf9Q2CrPHo"
      },
      "execution_count": null,
      "outputs": []
    },
    {
      "cell_type": "code",
      "source": [
        "model.evaluate([x_val_cn, x_val_f], y_val, verbose = 0)"
      ],
      "metadata": {
        "id": "qoNS21l8vbqR"
      },
      "execution_count": null,
      "outputs": []
    }
  ]
}