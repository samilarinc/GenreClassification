{
  "nbformat": 4,
  "nbformat_minor": 0,
  "metadata": {
    "colab": {
      "name": "kNN_project.ipynb adlı not defterinin kopyası",
      "provenance": [],
      "collapsed_sections": [],
      "machine_shape": "hm"
    },
    "kernelspec": {
      "name": "python3",
      "display_name": "Python 3"
    },
    "language_info": {
      "name": "python"
    },
    "accelerator": "GPU"
  },
  "cells": [
    {
      "cell_type": "code",
      "source": [
        "from google.colab import drive\n",
        "drive.mount('/content/drive')"
      ],
      "metadata": {
        "id": "dIhZIfjK4ALu",
        "colab": {
          "base_uri": "https://localhost:8080/"
        },
        "outputId": "f357df3d-b174-4552-8cc5-b3152324fc0c"
      },
      "execution_count": null,
      "outputs": [
        {
          "output_type": "stream",
          "name": "stdout",
          "text": [
            "Mounted at /content/drive\n"
          ]
        }
      ]
    },
    {
      "cell_type": "code",
      "metadata": {
        "id": "qy8yfCYmhqj5"
      },
      "source": [
        "!cp /content/drive/MyDrive/project/utils.py /content/utils.py"
      ],
      "execution_count": null,
      "outputs": []
    },
    {
      "cell_type": "code",
      "metadata": {
        "colab": {
          "base_uri": "https://localhost:8080/"
        },
        "id": "JTXfAFaCiIFN",
        "outputId": "f189ac2d-aa90-46c5-b505-b7a8b79807ea"
      },
      "source": [
        "pip install python-dotenv"
      ],
      "execution_count": null,
      "outputs": [
        {
          "output_type": "stream",
          "name": "stdout",
          "text": [
            "Collecting python-dotenv\n",
            "  Downloading python_dotenv-0.19.2-py2.py3-none-any.whl (17 kB)\n",
            "Installing collected packages: python-dotenv\n",
            "Successfully installed python-dotenv-0.19.2\n"
          ]
        }
      ]
    },
    {
      "cell_type": "code",
      "metadata": {
        "id": "PLeolJdKotv3"
      },
      "source": [
        "import pandas as pd\n",
        "import numpy as np\n",
        "import cv2\n",
        "from time import perf_counter\n",
        "\n",
        "import utils"
      ],
      "execution_count": null,
      "outputs": []
    },
    {
      "cell_type": "code",
      "metadata": {
        "id": "UXVzWgdY4-Ih"
      },
      "source": [
        "!cp /content/drive/MyDrive/project/raw_tracks.csv /content/raw_tracks.csv\n",
        "!cp /content/drive/MyDrive/project/mels.zip /content/mels2.zip\n",
        "!cp /content/drive/MyDrive/project/files.txt /content/files2.txt"
      ],
      "execution_count": null,
      "outputs": []
    },
    {
      "cell_type": "code",
      "metadata": {
        "id": "6sap3zKZQM6f"
      },
      "source": [
        "!cp /content/drive/MyDrive/project/fma_metadata/tracks.csv /content/tracks.csv\n",
        "!cp /content/drive/MyDrive/project/fma_metadata/genres.csv /content/genres.csv\n",
        "!cp /content/drive/MyDrive/project/fma_metadata/features.csv /content/features.csv\n",
        "!cp /content/drive/MyDrive/project/fma_metadata/echonest.csv /content/echonest.csv"
      ],
      "execution_count": null,
      "outputs": []
    },
    {
      "cell_type": "code",
      "metadata": {
        "id": "AiqFrPAQVgpm"
      },
      "source": [
        "!unzip mels2.zip -d ."
      ],
      "execution_count": null,
      "outputs": []
    },
    {
      "cell_type": "code",
      "metadata": {
        "id": "kcFbnTdWPY_i"
      },
      "source": [
        "DOWNSAMPLE_HEIGHT = 128\n",
        "DOWNSAMPLE_WIDTH = 1291"
      ],
      "execution_count": null,
      "outputs": []
    },
    {
      "cell_type": "code",
      "metadata": {
        "id": "jc_EwvuoD5Kq"
      },
      "source": [
        "import ast\n",
        "f = open(\"files2.txt\", \"r\")\n",
        "data = f.read()\n",
        "indices = ast.literal_eval(data)\n",
        "f.close()"
      ],
      "execution_count": null,
      "outputs": []
    },
    {
      "cell_type": "code",
      "metadata": {
        "id": "pgKhoRXcNpqV"
      },
      "source": [
        "track_data = pd.read_csv(\"raw_tracks.csv\", index_col = 0)\n",
        "data = track_data[\"track_genres\"][np.array(indices).astype(int)]\n",
        "# track_data[\"track_genres\"]"
      ],
      "execution_count": null,
      "outputs": []
    },
    {
      "cell_type": "code",
      "metadata": {
        "id": "_hmt4uXlSV6O"
      },
      "source": [
        "data_dict = dict()\n",
        "for i in data.keys():\n",
        "    data_dict[i] = ast.literal_eval(data[i])[0][\"genre_title\"] #data_dict contains track_ids as keys and genre_ids as values"
      ],
      "execution_count": null,
      "outputs": []
    },
    {
      "cell_type": "code",
      "metadata": {
        "id": "OYRSTMJii3PY"
      },
      "source": [
        "tracks = utils.load('drive/MyDrive/project/fma_metadata/tracks.csv')"
      ],
      "execution_count": null,
      "outputs": []
    },
    {
      "cell_type": "code",
      "metadata": {
        "id": "qsxHQ05HZHmD"
      },
      "source": [
        "small = tracks['set', 'subset'] <= 'small'\n",
        "\n",
        "train = tracks['set', 'split'] == 'training'\n",
        "val = tracks['set', 'split'] == 'validation'\n",
        "test = tracks['set', 'split'] == 'test'\n",
        "\n",
        "y_train_initial = tracks.loc[small & train, ('track', 'genre_top')]\n",
        "y_test_initial = tracks.loc[small & test, ('track', 'genre_top')]\n",
        "y_val_initial = tracks.loc[small & val, ('track', 'genre_top')]\n",
        "\n",
        "y_train_initial = y_train_initial.to_frame()\n",
        "y_test_initial = y_test_initial.to_frame()\n",
        "y_val_initial = y_val_initial.to_frame()\n",
        "\n",
        "genres = ('Electronic', 'Experimental', 'Folk', 'Hip-Hop', 'Instrumental', 'International', 'Pop', 'Rock')\n",
        "genres_dic = dict()\n",
        "cnt = 0\n",
        "for i in genres:\n",
        "  genres_dic[i] = cnt\n",
        "  cnt += 1"
      ],
      "execution_count": null,
      "outputs": []
    },
    {
      "cell_type": "code",
      "metadata": {
        "colab": {
          "base_uri": "https://localhost:8080/",
          "height": 35
        },
        "id": "URmgxRv3ZpIB",
        "outputId": "5537387a-a3d4-41d1-c787-f02e269d7c9f"
      },
      "source": [
        "y_train_np = y_train_initial.to_numpy()\n",
        "y_test_np = y_test_initial.to_numpy()\n",
        "y_val_np = y_val_initial.to_numpy()\n",
        "y_train_np[0,0]"
      ],
      "execution_count": null,
      "outputs": [
        {
          "output_type": "execute_result",
          "data": {
            "application/vnd.google.colaboratory.intrinsic+json": {
              "type": "string"
            },
            "text/plain": [
              "'Hip-Hop'"
            ]
          },
          "metadata": {},
          "execution_count": 15
        }
      ]
    },
    {
      "cell_type": "code",
      "metadata": {
        "id": "TG5WpEynGznC",
        "colab": {
          "base_uri": "https://localhost:8080/",
          "height": 232
        },
        "outputId": "219cb7db-d68b-4d40-ccdb-382357bee50b"
      },
      "source": [
        "x_train = np.zeros((63940, 128, 128))\n",
        "x_test = np.zeros((8000 , 128, 128))\n",
        "x_val = np.zeros((8000 , 128, 128))\n",
        "\n",
        "y_train = np.zeros(63940, dtype = int)\n",
        "y_test = np.zeros(8000, dtype = int)\n",
        "y_val = np.zeros(8000, dtype = int)\n",
        "\n",
        "i1, i2, i3, count = 0, 0, 0, 0\n",
        "for i in data_dict:\n",
        "    file = \"{:06d}\".format(i)\n",
        "    dir = file[:3]\n",
        "    track_id = int(file)\n",
        "    img = cv2.imread(f\"/content/mels/{dir}/{file}.png\")\n",
        "    if img.shape[1] > 1291:\n",
        "      img = np.delete(img, np.s_[1291:img.shape[1]], axis=1)\n",
        "    img = cv2.resize(img, (DOWNSAMPLE_WIDTH, DOWNSAMPLE_HEIGHT), interpolation = cv2.INTER_AREA)\n",
        "    img = cv2.cvtColor(img, cv2.COLOR_RGB2GRAY) \n",
        "    if track_id in y_train_initial.index:\n",
        "      for j in range(10):\n",
        "        x_train[10*i1+j] = img[:,128*j:128*(j+1)]\n",
        "        y_train[10*i1+j] = genres_dic[y_train_np[i1,0]]\n",
        "      i1 += 1\n",
        "      count += 1\n",
        "    elif track_id in y_test_initial.index:\n",
        "      for j in range(10):\n",
        "        x_test[10*i2+j] = img[:,128*j:128*(j+1)]\n",
        "        y_test[10*i2+j] = genres_dic[y_test_np[i2,0]]\n",
        "      i2 += 1\n",
        "      count += 1\n",
        "    elif track_id in y_val_initial.index:\n",
        "      for j in range(10):\n",
        "        x_val[10*i3+j] = img[:,128*j:128*(j+1)]\n",
        "        y_val[10*i3+j] = genres_dic[y_val_np[i3,0]]\n",
        "      i3 += 1\n",
        "      count += 1\n",
        "print(i1,i2,i3,count)      "
      ],
      "execution_count": null,
      "outputs": [
        {
          "output_type": "error",
          "ename": "IndexError",
          "evalue": "ignored",
          "traceback": [
            "\u001b[0;31m---------------------------------------------------------------------------\u001b[0m",
            "\u001b[0;31mIndexError\u001b[0m                                Traceback (most recent call last)",
            "\u001b[0;32m<ipython-input-17-7be3da2cd899>\u001b[0m in \u001b[0;36m<module>\u001b[0;34m()\u001b[0m\n\u001b[1;32m     19\u001b[0m     \u001b[0;32mif\u001b[0m \u001b[0mtrack_id\u001b[0m \u001b[0;32min\u001b[0m \u001b[0my_train_initial\u001b[0m\u001b[0;34m.\u001b[0m\u001b[0mindex\u001b[0m\u001b[0;34m:\u001b[0m\u001b[0;34m\u001b[0m\u001b[0;34m\u001b[0m\u001b[0m\n\u001b[1;32m     20\u001b[0m       \u001b[0;32mfor\u001b[0m \u001b[0mj\u001b[0m \u001b[0;32min\u001b[0m \u001b[0mrange\u001b[0m\u001b[0;34m(\u001b[0m\u001b[0;36m10\u001b[0m\u001b[0;34m)\u001b[0m\u001b[0;34m:\u001b[0m\u001b[0;34m\u001b[0m\u001b[0;34m\u001b[0m\u001b[0m\n\u001b[0;32m---> 21\u001b[0;31m         \u001b[0mx_train\u001b[0m\u001b[0;34m[\u001b[0m\u001b[0;36m10\u001b[0m\u001b[0;34m*\u001b[0m\u001b[0mi1\u001b[0m\u001b[0;34m+\u001b[0m\u001b[0mj\u001b[0m\u001b[0;34m]\u001b[0m \u001b[0;34m=\u001b[0m \u001b[0mimg\u001b[0m\u001b[0;34m[\u001b[0m\u001b[0;34m:\u001b[0m\u001b[0;34m,\u001b[0m\u001b[0;36m128\u001b[0m\u001b[0;34m*\u001b[0m\u001b[0mj\u001b[0m\u001b[0;34m:\u001b[0m\u001b[0;36m128\u001b[0m\u001b[0;34m*\u001b[0m\u001b[0;34m(\u001b[0m\u001b[0mj\u001b[0m\u001b[0;34m+\u001b[0m\u001b[0;36m1\u001b[0m\u001b[0;34m)\u001b[0m\u001b[0;34m]\u001b[0m\u001b[0;34m\u001b[0m\u001b[0;34m\u001b[0m\u001b[0m\n\u001b[0m\u001b[1;32m     22\u001b[0m         \u001b[0my_train\u001b[0m\u001b[0;34m[\u001b[0m\u001b[0;36m10\u001b[0m\u001b[0;34m*\u001b[0m\u001b[0mi1\u001b[0m\u001b[0;34m+\u001b[0m\u001b[0mj\u001b[0m\u001b[0;34m]\u001b[0m \u001b[0;34m=\u001b[0m \u001b[0mgenres_dic\u001b[0m\u001b[0;34m[\u001b[0m\u001b[0my_train_np\u001b[0m\u001b[0;34m[\u001b[0m\u001b[0mi1\u001b[0m\u001b[0;34m,\u001b[0m\u001b[0;36m0\u001b[0m\u001b[0;34m]\u001b[0m\u001b[0;34m]\u001b[0m\u001b[0;34m\u001b[0m\u001b[0;34m\u001b[0m\u001b[0m\n\u001b[1;32m     23\u001b[0m       \u001b[0mi1\u001b[0m \u001b[0;34m+=\u001b[0m \u001b[0;36m1\u001b[0m\u001b[0;34m\u001b[0m\u001b[0;34m\u001b[0m\u001b[0m\n",
            "\u001b[0;31mIndexError\u001b[0m: index 63940 is out of bounds for axis 0 with size 63940"
          ]
        }
      ]
    },
    {
      "cell_type": "code",
      "metadata": {
        "id": "ngVii55Sk_kr"
      },
      "source": [
        "y_train.shape, y_test.shape, y_val.shape"
      ],
      "execution_count": null,
      "outputs": []
    },
    {
      "cell_type": "code",
      "metadata": {
        "id": "mxWQkSNsoSP4"
      },
      "source": [
        "i1, i2, i3"
      ],
      "execution_count": null,
      "outputs": []
    },
    {
      "cell_type": "code",
      "metadata": {
        "id": "kGUB1hMRXpFM"
      },
      "source": [
        "import matplotlib.pyplot as plt\n",
        "%matplotlib inline\n",
        "plt.imshow(x_train[7378], cmap='gray')\n",
        "# print(img_datas[3].shape)"
      ],
      "execution_count": null,
      "outputs": []
    },
    {
      "cell_type": "code",
      "metadata": {
        "id": "xf4GXClJXsI_"
      },
      "source": [
        "# img_datas = normalize(img_datas)\n",
        "# print(img_datas.shape)\n",
        "\n",
        "# tracks = utils.load('tracks.csv')\n",
        "# genres = utils.load('genres.csv')\n",
        "# features = utils.load('features.csv')\n",
        "# echonest = utils.load('echonest.csv')\n",
        "\n",
        "# tracks.shape, genres.shape, features.shape, echonest.shape"
      ],
      "execution_count": null,
      "outputs": []
    },
    {
      "cell_type": "markdown",
      "metadata": {
        "id": "tjHKswfmsGG4"
      },
      "source": [
        "KNN"
      ]
    },
    {
      "cell_type": "code",
      "metadata": {
        "id": "50rDvn1RsHpK"
      },
      "source": [
        "import math\n",
        "from time import perf_counter\n",
        "def test(train_x, train_y, test_x, test_y, k):\n",
        "  start_time = perf_counter()\n",
        "  correct = [0] * 11\n",
        "  for i in range(test_x.shape[0]):  \n",
        "    distances = np.zeros(train_x.shape[0])\n",
        "    tot = 0\n",
        "    for j in range(train_x.shape[0]):\n",
        "      distances[j] = math.sqrt(np.sum(np.power((test_x[i]-train_x[j]), 2)))\n",
        "    distances = np.argsort(distances)\n",
        "    predict = [0] * 11\n",
        "    for q in range(11):\n",
        "        predict[q] = np.bincount(train_y[distances[0:2*q+3]]).argmax()\n",
        "        correct[q] += int(predict[q] == test_y[i])   \n",
        "    if not i%8:\n",
        "        print(\"\\r{:3d}% (Time elapsed: {:3d}s)\".format(i//8, int((perf_counter()-start_time)//1)), end = \"\")\n",
        "  acc = [0] * 11\n",
        "  print()\n",
        "  for q in range(11):\n",
        "      acc[q]  = (correct[q]/test_x.shape[0])*100 \n",
        "  return acc"
      ],
      "execution_count": null,
      "outputs": []
    },
    {
      "cell_type": "code",
      "metadata": {
        "id": "gKPrBZ7gGVQb"
      },
      "source": [
        "def test2(train_x, train_y, test_x, test_y, k):\n",
        "  start_time = perf_counter()\n",
        "  correct = [0] * 11\n",
        "  for i in range(test_x.shape[0]):  \n",
        "    distances = np.zeros(train_x.shape[0])\n",
        "    tot = 0\n",
        "    for j in range(train_x.shape[0]):\n",
        "      distances[j] = np.sum(np.abs((test_x[i]-train_x[j])))\n",
        "    distances = np.argsort(distances)\n",
        "    predict = [0] * 11\n",
        "    for q in range(11):\n",
        "        predict[q] = np.bincount(train_y[distances[0:2*q+3]]).argmax()\n",
        "        correct[q] += int(predict[q] == test_y[i])    \n",
        "    if not i%8:\n",
        "        print(\"\\r{:3d}% (Time elapsed: {:3d}s)\".format(i//8, int((perf_counter()-start_time)//1)), end = \"\")\n",
        "  acc = [0] * 11\n",
        "  print()\n",
        "  for q in range(11):\n",
        "      acc[q]  = (correct[q]/test_x.shape[0])*100 \n",
        "  return acc"
      ],
      "execution_count": null,
      "outputs": []
    },
    {
      "cell_type": "code",
      "metadata": {
        "id": "4BDqdKI1y97c"
      },
      "source": [
        "x_train /= 255\n",
        "x_test /= 255\n",
        "x_val /= 255"
      ],
      "execution_count": null,
      "outputs": []
    },
    {
      "cell_type": "code",
      "metadata": {
        "colab": {
          "base_uri": "https://localhost:8080/"
        },
        "id": "3pHmZYkWsIVW",
        "outputId": "22baac71-1587-447d-f18d-9bf30f4ba2df"
      },
      "source": [
        "euclidean_arr = test(x_train.reshape(6394, -1), y_train, x_test.reshape(800, -1), y_test, 9)\n",
        "print(\"\\n\", euclidean_arr)\n",
        "manhattan_arr = test2(x_train.reshape(6394, -1), y_train, x_test.reshape(800, -1), y_test, 9)\n",
        "print(\"\\n\", manhattan_arr) "
      ],
      "execution_count": null,
      "outputs": [
        {
          "output_type": "stream",
          "name": "stdout",
          "text": [
            " 99% (Time elapsed: 2805s)\n",
            "\n",
            " [21.125, 21.0, 21.625, 23.25, 23.875, 23.5, 23.625, 23.625, 23.125, 23.75, 23.625]\n",
            " 99% (Time elapsed: 1016s)\n",
            "\n",
            " [20.625, 22.625, 22.375, 23.0, 23.375, 24.0, 24.125, 23.625, 24.0, 24.375, 23.25]\n"
          ]
        }
      ]
    },
    {
      "cell_type": "code",
      "metadata": {
        "id": "0An2jZNGvtn2",
        "colab": {
          "base_uri": "https://localhost:8080/"
        },
        "outputId": "ce7bd8c7-fb29-451a-d776-abf5fe5d2a38"
      },
      "source": [
        "print(\"Results for image resolution 32x322:\")\n",
        "print(\"Euclidean Accuracy: 21.375, 20.875, 24.250, 23.375, 23.000, 23.750, 24.000, 24.500, 23.625, 23.375, 23.750\")\n",
        "print(\"k_val:                   3,      5,      7,      9,     11,     13,     15,     17,     19,     21,     23\")\n",
        "print(\"Manhattan Accuracy: 21.500, 22.375, 24.125, 24.250, 24.500, 24.125, 23.375, 23.375, 22.875, 23.250, 24.250\")"
      ],
      "execution_count": null,
      "outputs": [
        {
          "output_type": "stream",
          "name": "stdout",
          "text": [
            "Euclidean Accuracy: 21.375, 20.875, 24.250, 23.375, 23.000, 23.750, 24.000, 24.500, 23.625, 23.375, 23.750\n",
            "k_val:                   3,      5,      7,      9,     11,     13,     15,     17,     19,     21,     23\n",
            "Manhattan Accuracy: 21.500, 22.375, 24.125, 24.250, 24.500, 24.125, 23.375, 23.375, 22.875, 23.250, 24.250\n"
          ]
        }
      ]
    },
    {
      "cell_type": "code",
      "source": [
        "x_train_cn = np.expand_dims(x_train, axis=3)\n",
        "x_test_cn = np.expand_dims(x_test, axis=3)\n",
        "x_val_cn = np.expand_dims(x_val, axis=3)"
      ],
      "metadata": {
        "id": "PXoXu-0guWhr"
      },
      "execution_count": null,
      "outputs": []
    },
    {
      "cell_type": "code",
      "source": [
        "y_train_cn = np.zeros((y_train.size, y_train.max()+1))\n",
        "y_train_cn[np.arange(y_train.size),y_train] = 1\n",
        "\n",
        "y_test_cn = np.zeros((y_test.size, y_test.max()+1))\n",
        "y_test_cn[np.arange(y_test.size),y_test] = 1\n",
        "\n",
        "y_val_cn = np.zeros((y_val.size, y_val.max()+1))\n",
        "y_val_cn[np.arange(y_val.size),y_val] = 1"
      ],
      "metadata": {
        "id": "-swubdrmpAvN"
      },
      "execution_count": null,
      "outputs": []
    },
    {
      "cell_type": "code",
      "source": [
        "import tensorflow as tf\n",
        "from keras import layers\n",
        "from keras.layers import (Input, Add, Dense, Activation, ZeroPadding2D, BatchNormalization, Flatten, \n",
        "                          Conv2D, AveragePooling2D, MaxPooling2D, GlobalMaxPooling2D, Dropout)\n",
        "from keras.models import Model, load_model\n",
        "from keras.preprocessing import image\n",
        "from keras.utils import layer_utils\n",
        "import pydot\n",
        "from IPython.display import SVG\n",
        "from keras.utils.vis_utils import model_to_dot\n",
        "from keras.initializers import glorot_uniform\n",
        "\n",
        "from keras.preprocessing.image import ImageDataGenerator\n",
        "import random"
      ],
      "metadata": {
        "id": "b8aM1zF-rWHQ"
      },
      "execution_count": null,
      "outputs": []
    },
    {
      "cell_type": "code",
      "source": [
        "def GenreModel(input_shape = (128,128,1),classes=8):\n",
        "  \n",
        "  X_input = Input(input_shape)\n",
        "\n",
        "  X = Conv2D(8,kernel_size=(8,8),strides=(1,1))(X_input)\n",
        "  X = BatchNormalization(axis=3)(X)\n",
        "  X = Activation('relu')(X)\n",
        "  #X = Dropout(rate=0.3)(X)\n",
        "\n",
        "  \n",
        "  X = Conv2D(16,kernel_size=(4,4),strides = (1,1))(X)\n",
        "  X = BatchNormalization()(X)\n",
        "  X = Activation('relu')(X)\n",
        "  #X = Dropout(rate=0.3)(X)\n",
        "  X = MaxPooling2D((2,2))(X)\n",
        "  \n",
        "  X = Conv2D(32,kernel_size=(4,4),strides = (1,1))(X)\n",
        "  X = BatchNormalization()(X)\n",
        "  X = Activation('relu')(X)\n",
        "  #X = Dropout(rate=0.3)(X)\n",
        "\n",
        "  X = Conv2D(64,kernel_size=(4,4),strides=(1,1))(X)\n",
        "  X = BatchNormalization()(X)\n",
        "  X = Activation('relu')(X)\n",
        "  #X = Dropout(rate=0.3)(X)\n",
        "  X = MaxPooling2D((2,2))(X)\n",
        "  \n",
        "  X = Conv2D(128,kernel_size=(4,4),strides=(1,1))(X)\n",
        "  X = BatchNormalization()(X)\n",
        "  X = Activation('relu')(X)\n",
        "  #X = Dropout(rate=0.3)(X)\n",
        "  X = MaxPooling2D((2,2))(X)\n",
        "\n",
        "  \n",
        "  X = Flatten()(X)\n",
        "  X = Dropout(rate=0.5)(X)\n",
        "  X = Dense(classes, activation='softmax', name='fc' + str(classes))(X)\n",
        "\n",
        "  model = Model(inputs=X_input,outputs=X,name='GenreModel')\n",
        "\n",
        "  return model"
      ],
      "metadata": {
        "id": "nrNOuSxkqSPZ"
      },
      "execution_count": null,
      "outputs": []
    },
    {
      "cell_type": "code",
      "source": [
        "model = GenreModel(input_shape=(128,128,1),classes=8)\n",
        "model.summary()"
      ],
      "metadata": {
        "colab": {
          "base_uri": "https://localhost:8080/"
        },
        "id": "GEKWMXs2vpG1",
        "outputId": "9b576ad2-99b9-4051-c008-45606085aaa5"
      },
      "execution_count": null,
      "outputs": [
        {
          "output_type": "stream",
          "name": "stdout",
          "text": [
            "Model: \"GenreModel\"\n",
            "_________________________________________________________________\n",
            " Layer (type)                Output Shape              Param #   \n",
            "=================================================================\n",
            " input_2 (InputLayer)        [(None, 128, 128, 1)]     0         \n",
            "                                                                 \n",
            " conv2d_5 (Conv2D)           (None, 121, 121, 8)       520       \n",
            "                                                                 \n",
            " batch_normalization_5 (Batc  (None, 121, 121, 8)      32        \n",
            " hNormalization)                                                 \n",
            "                                                                 \n",
            " activation_5 (Activation)   (None, 121, 121, 8)       0         \n",
            "                                                                 \n",
            " conv2d_6 (Conv2D)           (None, 118, 118, 16)      2064      \n",
            "                                                                 \n",
            " batch_normalization_6 (Batc  (None, 118, 118, 16)     64        \n",
            " hNormalization)                                                 \n",
            "                                                                 \n",
            " activation_6 (Activation)   (None, 118, 118, 16)      0         \n",
            "                                                                 \n",
            " max_pooling2d_5 (MaxPooling  (None, 59, 59, 16)       0         \n",
            " 2D)                                                             \n",
            "                                                                 \n",
            " conv2d_7 (Conv2D)           (None, 56, 56, 32)        8224      \n",
            "                                                                 \n",
            " batch_normalization_7 (Batc  (None, 56, 56, 32)       128       \n",
            " hNormalization)                                                 \n",
            "                                                                 \n",
            " activation_7 (Activation)   (None, 56, 56, 32)        0         \n",
            "                                                                 \n",
            " conv2d_8 (Conv2D)           (None, 53, 53, 64)        32832     \n",
            "                                                                 \n",
            " batch_normalization_8 (Batc  (None, 53, 53, 64)       256       \n",
            " hNormalization)                                                 \n",
            "                                                                 \n",
            " activation_8 (Activation)   (None, 53, 53, 64)        0         \n",
            "                                                                 \n",
            " max_pooling2d_6 (MaxPooling  (None, 26, 26, 64)       0         \n",
            " 2D)                                                             \n",
            "                                                                 \n",
            " conv2d_9 (Conv2D)           (None, 23, 23, 128)       131200    \n",
            "                                                                 \n",
            " batch_normalization_9 (Batc  (None, 23, 23, 128)      512       \n",
            " hNormalization)                                                 \n",
            "                                                                 \n",
            " activation_9 (Activation)   (None, 23, 23, 128)       0         \n",
            "                                                                 \n",
            " max_pooling2d_7 (MaxPooling  (None, 11, 11, 128)      0         \n",
            " 2D)                                                             \n",
            "                                                                 \n",
            " flatten (Flatten)           (None, 15488)             0         \n",
            "                                                                 \n",
            " dropout (Dropout)           (None, 15488)             0         \n",
            "                                                                 \n",
            " fc8 (Dense)                 (None, 8)                 123912    \n",
            "                                                                 \n",
            "=================================================================\n",
            "Total params: 299,744\n",
            "Trainable params: 299,248\n",
            "Non-trainable params: 496\n",
            "_________________________________________________________________\n"
          ]
        }
      ]
    },
    {
      "cell_type": "code",
      "source": [
        "import keras.backend as K\n",
        "def get_f1(y_true, y_pred): #taken from old keras source code\n",
        "    true_positives = K.sum(K.round(K.clip(y_true * y_pred, 0, 1)))\n",
        "    possible_positives = K.sum(K.round(K.clip(y_true, 0, 1)))\n",
        "    predicted_positives = K.sum(K.round(K.clip(y_pred, 0, 1)))\n",
        "    precision = true_positives / (predicted_positives + K.epsilon())\n",
        "    recall = true_positives / (possible_positives + K.epsilon())\n",
        "    f1_val = 2*(precision*recall)/(precision+recall+K.epsilon())\n",
        "    return f1_val\n",
        "\n",
        "opt = tf.keras.optimizers.Adam(learning_rate=0.001)\n",
        "model.compile(optimizer = opt,loss='categorical_crossentropy',metrics=['accuracy',get_f1]) \n",
        "\n",
        "model.fit(x_train_cn, y_train_cn,epochs=70, batch_size = 128, validation_data=(x_test_cn, y_test_cn))    "
      ],
      "metadata": {
        "id": "ekjf9Q2CrPHo",
        "colab": {
          "base_uri": "https://localhost:8080/"
        },
        "outputId": "f547b76b-bd12-45b6-b2eb-40b813c9fb91"
      },
      "execution_count": null,
      "outputs": [
        {
          "output_type": "stream",
          "name": "stdout",
          "text": [
            "Epoch 1/70\n",
            "500/500 [==============================] - 44s 65ms/step - loss: 2.2490 - accuracy: 0.2288 - get_f1: 0.0361 - val_loss: 2.0945 - val_accuracy: 0.1937 - val_get_f1: 0.0039\n",
            "Epoch 2/70\n",
            "500/500 [==============================] - 31s 62ms/step - loss: 1.8778 - accuracy: 0.3123 - get_f1: 0.0663 - val_loss: 2.0756 - val_accuracy: 0.2351 - val_get_f1: 0.0792\n",
            "Epoch 3/70\n",
            "500/500 [==============================] - 31s 62ms/step - loss: 1.8262 - accuracy: 0.3449 - get_f1: 0.1047 - val_loss: 2.3776 - val_accuracy: 0.1482 - val_get_f1: 0.1144\n",
            "Epoch 4/70\n",
            "500/500 [==============================] - 31s 62ms/step - loss: 1.7869 - accuracy: 0.3635 - get_f1: 0.1372 - val_loss: 2.0428 - val_accuracy: 0.2769 - val_get_f1: 0.1494\n",
            "Epoch 5/70\n",
            "500/500 [==============================] - 31s 62ms/step - loss: 1.7468 - accuracy: 0.3802 - get_f1: 0.1689 - val_loss: 1.9516 - val_accuracy: 0.2719 - val_get_f1: 0.0517\n",
            "Epoch 6/70\n",
            "500/500 [==============================] - 31s 62ms/step - loss: 1.7081 - accuracy: 0.3964 - get_f1: 0.1960 - val_loss: 1.7077 - val_accuracy: 0.3560 - val_get_f1: 0.1523\n",
            "Epoch 7/70\n",
            "500/500 [==============================] - 31s 62ms/step - loss: 1.6636 - accuracy: 0.4150 - get_f1: 0.2292 - val_loss: 1.7097 - val_accuracy: 0.3895 - val_get_f1: 0.1617\n",
            "Epoch 8/70\n",
            "500/500 [==============================] - 31s 62ms/step - loss: 1.6231 - accuracy: 0.4300 - get_f1: 0.2572 - val_loss: 1.7065 - val_accuracy: 0.3926 - val_get_f1: 0.1538\n",
            "Epoch 9/70\n",
            "500/500 [==============================] - 31s 62ms/step - loss: 1.5717 - accuracy: 0.4502 - get_f1: 0.2923 - val_loss: 1.6859 - val_accuracy: 0.3832 - val_get_f1: 0.1875\n",
            "Epoch 10/70\n",
            "500/500 [==============================] - 31s 62ms/step - loss: 1.5234 - accuracy: 0.4695 - get_f1: 0.3262 - val_loss: 1.7367 - val_accuracy: 0.3655 - val_get_f1: 0.2238\n",
            "Epoch 11/70\n",
            "500/500 [==============================] - 31s 62ms/step - loss: 1.4721 - accuracy: 0.4850 - get_f1: 0.3614 - val_loss: 1.7923 - val_accuracy: 0.3425 - val_get_f1: 0.1866\n",
            "Epoch 12/70\n",
            "500/500 [==============================] - 31s 62ms/step - loss: 1.4185 - accuracy: 0.5073 - get_f1: 0.3960 - val_loss: 1.8787 - val_accuracy: 0.3301 - val_get_f1: 0.1989\n",
            "Epoch 13/70\n",
            "500/500 [==============================] - 31s 62ms/step - loss: 1.3712 - accuracy: 0.5223 - get_f1: 0.4230 - val_loss: 2.0836 - val_accuracy: 0.2769 - val_get_f1: 0.1719\n",
            "Epoch 14/70\n",
            "500/500 [==============================] - 31s 62ms/step - loss: 1.3243 - accuracy: 0.5378 - get_f1: 0.4526 - val_loss: 1.9785 - val_accuracy: 0.3052 - val_get_f1: 0.1595\n",
            "Epoch 15/70\n",
            "500/500 [==============================] - 31s 62ms/step - loss: 1.2776 - accuracy: 0.5540 - get_f1: 0.4819 - val_loss: 2.0172 - val_accuracy: 0.2797 - val_get_f1: 0.1408\n",
            "Epoch 16/70\n",
            "500/500 [==============================] - 31s 62ms/step - loss: 1.2408 - accuracy: 0.5680 - get_f1: 0.5006 - val_loss: 1.9461 - val_accuracy: 0.3320 - val_get_f1: 0.2196\n",
            "Epoch 17/70\n",
            "500/500 [==============================] - 31s 62ms/step - loss: 1.1947 - accuracy: 0.5839 - get_f1: 0.5249 - val_loss: 2.1675 - val_accuracy: 0.2740 - val_get_f1: 0.1801\n",
            "Epoch 18/70\n",
            "500/500 [==============================] - 31s 62ms/step - loss: 1.1564 - accuracy: 0.5981 - get_f1: 0.5439 - val_loss: 2.0268 - val_accuracy: 0.3291 - val_get_f1: 0.2718\n",
            "Epoch 19/70\n",
            "500/500 [==============================] - 31s 62ms/step - loss: 1.1206 - accuracy: 0.6102 - get_f1: 0.5634 - val_loss: 2.0058 - val_accuracy: 0.3350 - val_get_f1: 0.2765\n",
            "Epoch 20/70\n",
            "500/500 [==============================] - 31s 62ms/step - loss: 1.0927 - accuracy: 0.6181 - get_f1: 0.5762 - val_loss: 2.0420 - val_accuracy: 0.3381 - val_get_f1: 0.2655\n",
            "Epoch 21/70\n",
            "500/500 [==============================] - 31s 62ms/step - loss: 1.0545 - accuracy: 0.6334 - get_f1: 0.5967 - val_loss: 1.9698 - val_accuracy: 0.3495 - val_get_f1: 0.2816\n",
            "Epoch 22/70\n",
            "500/500 [==============================] - 31s 62ms/step - loss: 1.0329 - accuracy: 0.6408 - get_f1: 0.6050 - val_loss: 2.2075 - val_accuracy: 0.3130 - val_get_f1: 0.2419\n",
            "Epoch 23/70\n",
            "500/500 [==============================] - 31s 62ms/step - loss: 1.0054 - accuracy: 0.6506 - get_f1: 0.6170 - val_loss: 2.2192 - val_accuracy: 0.2923 - val_get_f1: 0.2372\n",
            "Epoch 24/70\n",
            "500/500 [==============================] - 31s 62ms/step - loss: 0.9707 - accuracy: 0.6635 - get_f1: 0.6332 - val_loss: 2.1539 - val_accuracy: 0.3265 - val_get_f1: 0.2755\n",
            "Epoch 25/70\n",
            "500/500 [==============================] - 31s 62ms/step - loss: 0.9551 - accuracy: 0.6682 - get_f1: 0.6407 - val_loss: 2.1253 - val_accuracy: 0.3319 - val_get_f1: 0.2831\n",
            "Epoch 26/70\n",
            "500/500 [==============================] - 31s 62ms/step - loss: 0.9368 - accuracy: 0.6706 - get_f1: 0.6474 - val_loss: 2.3101 - val_accuracy: 0.3101 - val_get_f1: 0.2640\n",
            "Epoch 27/70\n",
            "500/500 [==============================] - 31s 62ms/step - loss: 0.9086 - accuracy: 0.6848 - get_f1: 0.6625 - val_loss: 2.1594 - val_accuracy: 0.3368 - val_get_f1: 0.2799\n",
            "Epoch 28/70\n",
            "500/500 [==============================] - 31s 62ms/step - loss: 0.8965 - accuracy: 0.6853 - get_f1: 0.6632 - val_loss: 2.1748 - val_accuracy: 0.3397 - val_get_f1: 0.2991\n",
            "Epoch 29/70\n",
            "500/500 [==============================] - 31s 62ms/step - loss: 0.8635 - accuracy: 0.6997 - get_f1: 0.6797 - val_loss: 2.2178 - val_accuracy: 0.3399 - val_get_f1: 0.2992\n",
            "Epoch 30/70\n",
            "500/500 [==============================] - 31s 62ms/step - loss: 0.8515 - accuracy: 0.7009 - get_f1: 0.6847 - val_loss: 2.1751 - val_accuracy: 0.3259 - val_get_f1: 0.2687\n",
            "Epoch 31/70\n",
            "500/500 [==============================] - 31s 62ms/step - loss: 0.8335 - accuracy: 0.7087 - get_f1: 0.6913 - val_loss: 2.3388 - val_accuracy: 0.3160 - val_get_f1: 0.2715\n",
            "Epoch 32/70\n",
            " 81/500 [===>..........................] - ETA: 25s - loss: 0.7590 - accuracy: 0.7319 - get_f1: 0.7158"
          ]
        }
      ]
    }
  ]
}