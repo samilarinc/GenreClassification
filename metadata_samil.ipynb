{
  "nbformat": 4,
  "nbformat_minor": 0,
  "metadata": {
    "colab": {
      "provenance": []
    },
    "kernelspec": {
      "name": "python3",
      "display_name": "Python 3"
    },
    "language_info": {
      "name": "python"
    }
  },
  "cells": [
    {
      "cell_type": "code",
      "source": [
        "1from google.colab import drive"
      ],
      "metadata": {
        "id": "uY7gZbnWs-so"
      },
      "execution_count": null,
      "outputs": []
    },
    {
      "cell_type": "code",
      "source": [
        "import warnings\n",
        "warnings.filterwarnings('ignore')"
      ],
      "metadata": {
        "id": "mdyH1kp5E_oC"
      },
      "execution_count": null,
      "outputs": []
    },
    {
      "cell_type": "code",
      "execution_count": null,
      "metadata": {
        "id": "5zWsIlpRg6Ua",
        "colab": {
          "base_uri": "https://localhost:8080/"
        },
        "outputId": "a46caf43-b6c0-4c36-8f62-21e4ed659fe7"
      },
      "outputs": [
        {
          "output_type": "stream",
          "name": "stdout",
          "text": [
            "Drive already mounted at /content/drive; to attempt to forcibly remount, call drive.mount(\"/content/drive\", force_remount=True).\n"
          ]
        }
      ],
      "source": [
        "import IPython.display as ipd\n",
        "import numpy as np\n",
        "import pandas as pd\n",
        "import matplotlib.pyplot as plt\n",
        "%matplotlib inline\n",
        "import seaborn as sns\n",
        "import sklearn as skl\n",
        "import sklearn.svm\n",
        "\n",
        "drive.mount('/content/drive')"
      ]
    },
    {
      "cell_type": "code",
      "source": [
        "!cp /content/drive/MyDrive/project/utils.py /content/utils.py\n",
        "!pip install python-dotenv\n",
        "import utils"
      ],
      "metadata": {
        "colab": {
          "base_uri": "https://localhost:8080/"
        },
        "id": "d-4Fh3HPBGUB",
        "outputId": "f0e53e25-e539-40c7-abc7-b7ae20cc66bb"
      },
      "execution_count": null,
      "outputs": [
        {
          "output_type": "stream",
          "name": "stdout",
          "text": [
            "Collecting python-dotenv\n",
            "  Downloading python_dotenv-0.19.2-py2.py3-none-any.whl (17 kB)\n",
            "Installing collected packages: python-dotenv\n",
            "Successfully installed python-dotenv-0.19.2\n"
          ]
        }
      ]
    },
    {
      "cell_type": "code",
      "source": [
        "tracks = utils.load('/content/drive/MyDrive/project/fma_metadata/tracks.csv')\n",
        "genres = utils.load('/content/drive/MyDrive/project/fma_metadata/genres.csv')\n",
        "features = utils.load('/content/drive/MyDrive/project/fma_metadata/features.csv')\n",
        "echonest = utils.load('/content/drive/MyDrive/project/fma_metadata/echonest.csv')"
      ],
      "metadata": {
        "id": "XCNDRwAG4vkJ"
      },
      "execution_count": null,
      "outputs": []
    },
    {
      "cell_type": "code",
      "source": [
        "genres.shape"
      ],
      "metadata": {
        "colab": {
          "base_uri": "https://localhost:8080/"
        },
        "id": "aEdh5ArWhyBx",
        "outputId": "357d3b9c-c9fc-47c0-a494-865ec3331076"
      },
      "execution_count": null,
      "outputs": [
        {
          "output_type": "execute_result",
          "data": {
            "text/plain": [
              "(163, 4)"
            ]
          },
          "metadata": {},
          "execution_count": 7
        }
      ]
    },
    {
      "cell_type": "code",
      "source": [
        "small = tracks['set', 'subset'] <= 'small'\n",
        "\n",
        "train = tracks['set', 'split'] == 'training'\n",
        "val = tracks['set', 'split'] == 'validation'\n",
        "test = tracks['set', 'split'] == 'test'\n",
        "\n",
        "y_train = tracks.loc[small & train, ('track', 'genre_top')]\n",
        "y_test = tracks.loc[small & test, ('track', 'genre_top')]\n",
        "y_val = tracks.loc[small & val, ('track', 'genre_top')]\n",
        "X_train = features.loc[small & train, 'mfcc']\n",
        "X_val = features.loc[small & val, 'mfcc']\n",
        "X_test = features.loc[small & test, 'mfcc']\n",
        "\n",
        "print('{} training examples, {} testing examples'.format(y_train.size, y_test.size))\n",
        "print('{} features, {} classes'.format(X_train.shape[1], np.unique(y_train).size))"
      ],
      "metadata": {
        "id": "k5oFHpPnppG8",
        "colab": {
          "base_uri": "https://localhost:8080/"
        },
        "outputId": "44ae17e2-51de-4ad7-c8b4-2fae56e512ee"
      },
      "execution_count": null,
      "outputs": [
        {
          "output_type": "stream",
          "name": "stdout",
          "text": [
            "6400 training examples, 800 testing examples\n",
            "140 features, 8 classes\n"
          ]
        }
      ]
    },
    {
      "cell_type": "code",
      "source": [
        "deleted = [99134, 108925, 133297, 98565, 98567, 98569]\n",
        "X_train.drop(labels = deleted, axis = 0, inplace = True)\n",
        "y_train.drop(labels = deleted, axis = 0, inplace = True)"
      ],
      "metadata": {
        "id": "RI_VdQEp64CO"
      },
      "execution_count": null,
      "outputs": []
    },
    {
      "cell_type": "code",
      "source": [
        "X_TRAIN = echonest.loc[small & train, 'echonest']\n",
        "X_TEST = echonest.loc[small & test, 'echonest']\n",
        "X_VAL = echonest.loc[small & val, 'echonest']\n",
        "X_TRAIN = X_TRAIN.loc[:, 'audio_features']\n",
        "X_TEST = X_TEST.loc[:, 'audio_features']\n",
        "X_VAL = X_VAL.loc[:, 'audio_features']\n",
        "train_indexes = np.array(X_TRAIN.index)\n",
        "test_indexes = np.array(X_TEST.index)\n",
        "val_indexes = np.array(X_VAL.index)\n",
        "echo_Y_train = y_train[train_indexes]\n",
        "echo_Y_test = y_test[test_indexes]\n",
        "echo_Y_val = y_val[val_indexes]"
      ],
      "metadata": {
        "id": "hy757ubUcuhT"
      },
      "execution_count": null,
      "outputs": []
    },
    {
      "cell_type": "code",
      "source": [
        "# np.unique(echonest.loc[small & train].keys())\n",
        "# np.unique(features.loc[small & train].keys())#['mfcc']"
      ],
      "metadata": {
        "id": "bnhoK58IBjQE"
      },
      "execution_count": null,
      "outputs": []
    },
    {
      "cell_type": "code",
      "source": [
        "def normalize(frame):\n",
        "    min_val = frame.min()\n",
        "    max_val = frame.max()\n",
        "    frame = (frame - min_val) / (max_val - min_val)\n",
        "    return frame\n",
        "\n",
        "X_train_N = normalize(X_train)\n",
        "X_test_N = normalize(X_test)\n",
        "X_val_N = normalize(X_val)\n",
        "X_TRAIN_N = normalize(X_TRAIN)\n",
        "X_TEST_N = normalize(X_TEST)\n",
        "X_VAL_N = normalize(X_VAL)"
      ],
      "metadata": {
        "id": "BUwqTNd-duym"
      },
      "execution_count": null,
      "outputs": []
    },
    {
      "cell_type": "code",
      "source": [
        "list(y_train.cat.categories)"
      ],
      "metadata": {
        "colab": {
          "base_uri": "https://localhost:8080/"
        },
        "id": "LgtpE3V8VwPv",
        "outputId": "a7cab497-d60f-4ef8-a746-13c70ff22fb8"
      },
      "execution_count": null,
      "outputs": [
        {
          "output_type": "execute_result",
          "data": {
            "text/plain": [
              "['Blues',\n",
              " 'Classical',\n",
              " 'Country',\n",
              " 'Easy Listening',\n",
              " 'Electronic',\n",
              " 'Experimental',\n",
              " 'Folk',\n",
              " 'Hip-Hop',\n",
              " 'Instrumental',\n",
              " 'International',\n",
              " 'Jazz',\n",
              " 'Old-Time / Historic',\n",
              " 'Pop',\n",
              " 'Rock',\n",
              " 'Soul-RnB',\n",
              " 'Spoken']"
            ]
          },
          "metadata": {},
          "execution_count": 13
        }
      ]
    },
    {
      "cell_type": "code",
      "source": [
        "dct = {\n",
        " 'Blues':                0,\n",
        " 'Classical':            1,\n",
        " 'Country':              2,\n",
        " 'Easy Listening':       3,\n",
        " 'Electronic':           4,\n",
        " 'Experimental':         5,\n",
        " 'Folk':                 6,\n",
        " 'Hip-Hop':              7,\n",
        " 'Instrumental':         8,\n",
        " 'International':        9,\n",
        " 'Jazz':                 10,\n",
        " 'Old-Time / Historic':  11,\n",
        " 'Pop':                  12,\n",
        " 'Rock':                 13,\n",
        " 'Soul-RnB':             14,\n",
        " 'Spoken':               15\n",
        "}\n",
        "train_y = dict()\n",
        "test_y = dict()\n",
        "val_y = dict()\n",
        "for i in y_train.keys():\n",
        "    train_y[i] = dct[y_train[i]]\n",
        "for i in y_test.keys():\n",
        "    test_y[i] = dct[y_test[i]]\n",
        "for i in y_val.keys():\n",
        "    val_y[i] = dct[y_val[i]]"
      ],
      "metadata": {
        "id": "eBDfgahrVvZP"
      },
      "execution_count": null,
      "outputs": []
    },
    {
      "cell_type": "code",
      "source": [
        "lin_reg_y_train = np.array(list(train_y.values()))\n",
        "lin_reg_y_test = np.array(list(test_y.values()))\n",
        "lin_reg_y_val = np.array(list(val_y.values()))"
      ],
      "metadata": {
        "id": "jl2PUiPtb0Xq"
      },
      "execution_count": null,
      "outputs": []
    },
    {
      "cell_type": "code",
      "source": [
        "np.unique(y_train)"
      ],
      "metadata": {
        "colab": {
          "base_uri": "https://localhost:8080/"
        },
        "id": "v3gc8IJ9_4Fa",
        "outputId": "6d7ec96e-8c70-4417-b416-619ed3d49751"
      },
      "execution_count": null,
      "outputs": [
        {
          "output_type": "execute_result",
          "data": {
            "text/plain": [
              "array(['Electronic', 'Experimental', 'Folk', 'Hip-Hop', 'Instrumental',\n",
              "       'International', 'Pop', 'Rock'], dtype=object)"
            ]
          },
          "metadata": {},
          "execution_count": 16
        }
      ]
    },
    {
      "cell_type": "markdown",
      "source": [
        "#TELEMETRIES"
      ],
      "metadata": {
        "id": "ydgZadKj2Hg1"
      }
    },
    {
      "cell_type": "code",
      "source": [
        "# Be sure training samples are shuffled.\n",
        "X_train, y_train = skl.utils.shuffle(X_train, y_train, random_state=42)\n",
        "\n",
        "# Standardize features by removing the mean and scaling to unit variance.\n",
        "scaler = skl.preprocessing.StandardScaler(copy=False)\n",
        "scaler.fit_transform(X_train)\n",
        "scaler.transform(X_test)\n",
        "\n",
        "def train_poly(tol, deg):\n",
        "    clf = skl.svm.SVC(kernel = 'poly', tol = tol, degree = deg)\n",
        "    clf.fit(X_train, y_train)\n",
        "    score = clf.score(X_test, y_test)\n",
        "    return score\n",
        "\n",
        "def train_rbf(tol):\n",
        "    clf = skl.svm.SVC(kernel = 'rbf', tol = tol)\n",
        "    clf.fit(X_train, y_train)\n",
        "    score = clf.score(X_test, y_test)\n",
        "    return score\n",
        "\n",
        "print('SVM Polynomial Kernel: ')\n",
        "for i in (1, 2, 3, 4):\n",
        "    for j in (1e0, 1e-1, 1e-2, 1e-3):\n",
        "        print('degree = %d, tolerance = %f, accuracy = %.2f'%(i, j, 100*train_poly(i, j)))\n",
        "\n",
        "print('\\nSVM rbf Kernel: ')\n",
        "for i in (1e0, 1e-1, 1e-2, 1e-3):\n",
        "    print('tolerance = %f, accuracy = %.2f'%(i, 100*train_rbf(i)))"
      ],
      "metadata": {
        "id": "EiNU-ItOtIUE",
        "colab": {
          "base_uri": "https://localhost:8080/"
        },
        "outputId": "9a7b0a9e-b6a0-48a8-8430-16e964f281b6"
      },
      "execution_count": null,
      "outputs": [
        {
          "output_type": "stream",
          "name": "stdout",
          "text": [
            "SVM Polynomial Kernel: \n",
            "degree = 1, tolerance = 1.000000, accuracy = 42.62\n",
            "degree = 1, tolerance = 0.100000, accuracy = 12.50\n",
            "degree = 1, tolerance = 0.010000, accuracy = 12.50\n",
            "degree = 1, tolerance = 0.001000, accuracy = 12.50\n",
            "degree = 2, tolerance = 1.000000, accuracy = 41.88\n",
            "degree = 2, tolerance = 0.100000, accuracy = 12.50\n",
            "degree = 2, tolerance = 0.010000, accuracy = 12.50\n",
            "degree = 2, tolerance = 0.001000, accuracy = 12.50\n",
            "degree = 3, tolerance = 1.000000, accuracy = 12.50\n",
            "degree = 3, tolerance = 0.100000, accuracy = 12.50\n",
            "degree = 3, tolerance = 0.010000, accuracy = 12.50\n",
            "degree = 3, tolerance = 0.001000, accuracy = 12.50\n",
            "degree = 4, tolerance = 1.000000, accuracy = 12.50\n",
            "degree = 4, tolerance = 0.100000, accuracy = 12.50\n",
            "degree = 4, tolerance = 0.010000, accuracy = 12.50\n",
            "degree = 4, tolerance = 0.001000, accuracy = 12.50\n",
            "\n",
            "SVM rbf Kernel: \n",
            "tolerance = 1.000000, accuracy = 46.50\n",
            "tolerance = 0.100000, accuracy = 46.62\n",
            "tolerance = 0.010000, accuracy = 46.62\n",
            "tolerance = 0.001000, accuracy = 46.62\n"
          ]
        }
      ]
    },
    {
      "cell_type": "code",
      "source": [
        "clf = skl.svm.SVC(kernel = 'rbf', tol = 0.01)\n",
        "clf.fit(X_train, y_train)\n",
        "clf.score(X_val, y_val)"
      ],
      "metadata": {
        "colab": {
          "base_uri": "https://localhost:8080/"
        },
        "id": "ph2QYerfLkVq",
        "outputId": "7244c5c6-0428-4c84-9c1f-1d0336e98014"
      },
      "execution_count": null,
      "outputs": [
        {
          "output_type": "execute_result",
          "data": {
            "text/plain": [
              "0.125"
            ]
          },
          "metadata": {},
          "execution_count": 18
        }
      ]
    },
    {
      "cell_type": "code",
      "source": [
        "from sklearn.neighbors import KNeighborsClassifier\n",
        "\n",
        "for i in range(1,50):\n",
        "    neigh = KNeighborsClassifier(n_neighbors=i*2+1)\n",
        "    neigh.fit(X_train, y_train)\n",
        "    score = neigh.score(X_test,y_test)\n",
        "    print('kNN accuracy when k = ',i*2+1,': {:.2%}'.format(score))\n",
        "\n",
        "neigh.score(X_val, y_val)"
      ],
      "metadata": {
        "colab": {
          "base_uri": "https://localhost:8080/"
        },
        "id": "X2ooYXT3EDp6",
        "outputId": "c49323b3-7943-41cf-ee7b-af2cd4f41b6d"
      },
      "execution_count": null,
      "outputs": [
        {
          "output_type": "stream",
          "name": "stdout",
          "text": [
            "kNN accuracy when k =  3 : 33.75%\n",
            "kNN accuracy when k =  5 : 34.88%\n",
            "kNN accuracy when k =  7 : 35.25%\n",
            "kNN accuracy when k =  9 : 35.75%\n",
            "kNN accuracy when k =  11 : 36.50%\n",
            "kNN accuracy when k =  13 : 36.00%\n",
            "kNN accuracy when k =  15 : 36.25%\n",
            "kNN accuracy when k =  17 : 36.62%\n",
            "kNN accuracy when k =  19 : 37.00%\n",
            "kNN accuracy when k =  21 : 36.12%\n",
            "kNN accuracy when k =  23 : 36.25%\n",
            "kNN accuracy when k =  25 : 36.50%\n",
            "kNN accuracy when k =  27 : 37.12%\n",
            "kNN accuracy when k =  29 : 37.88%\n",
            "kNN accuracy when k =  31 : 37.88%\n",
            "kNN accuracy when k =  33 : 37.38%\n",
            "kNN accuracy when k =  35 : 37.75%\n",
            "kNN accuracy when k =  37 : 37.75%\n",
            "kNN accuracy when k =  39 : 38.75%\n",
            "kNN accuracy when k =  41 : 37.62%\n",
            "kNN accuracy when k =  43 : 36.75%\n",
            "kNN accuracy when k =  45 : 37.25%\n",
            "kNN accuracy when k =  47 : 37.12%\n",
            "kNN accuracy when k =  49 : 36.25%\n",
            "kNN accuracy when k =  51 : 35.50%\n",
            "kNN accuracy when k =  53 : 36.12%\n",
            "kNN accuracy when k =  55 : 36.88%\n",
            "kNN accuracy when k =  57 : 36.62%\n",
            "kNN accuracy when k =  59 : 36.50%\n",
            "kNN accuracy when k =  61 : 36.50%\n",
            "kNN accuracy when k =  63 : 36.38%\n",
            "kNN accuracy when k =  65 : 36.88%\n",
            "kNN accuracy when k =  67 : 37.50%\n",
            "kNN accuracy when k =  69 : 37.75%\n",
            "kNN accuracy when k =  71 : 37.62%\n",
            "kNN accuracy when k =  73 : 37.38%\n",
            "kNN accuracy when k =  75 : 37.12%\n",
            "kNN accuracy when k =  77 : 38.00%\n",
            "kNN accuracy when k =  79 : 37.38%\n",
            "kNN accuracy when k =  81 : 37.50%\n",
            "kNN accuracy when k =  83 : 37.50%\n",
            "kNN accuracy when k =  85 : 38.12%\n",
            "kNN accuracy when k =  87 : 37.88%\n",
            "kNN accuracy when k =  89 : 38.25%\n",
            "kNN accuracy when k =  91 : 38.12%\n",
            "kNN accuracy when k =  93 : 38.38%\n",
            "kNN accuracy when k =  95 : 38.62%\n",
            "kNN accuracy when k =  97 : 38.50%\n",
            "kNN accuracy when k =  99 : 38.50%\n"
          ]
        },
        {
          "output_type": "execute_result",
          "data": {
            "text/plain": [
              "0.12875"
            ]
          },
          "metadata": {},
          "execution_count": 19
        }
      ]
    },
    {
      "cell_type": "code",
      "source": [
        "from sklearn.naive_bayes import GaussianNB\n",
        "clf = GaussianNB()\n",
        "clf.fit(X_train, y_train)\n",
        "score = clf.score(X_test, y_test)\n",
        "# score = clf.score(X_val, y_val)\n",
        "print('Gaussian naive bayes accuracy: {:.2%}'.format(score))"
      ],
      "metadata": {
        "colab": {
          "base_uri": "https://localhost:8080/"
        },
        "id": "hj3-rAPtFR9L",
        "outputId": "9743a7e6-186a-4621-cf56-18841cfd97cf"
      },
      "execution_count": null,
      "outputs": [
        {
          "output_type": "stream",
          "name": "stdout",
          "text": [
            "Gaussian naive bayes accuracy: 36.00%\n"
          ]
        }
      ]
    },
    {
      "cell_type": "code",
      "source": [
        "from sklearn.naive_bayes import ComplementNB\n",
        "clf = ComplementNB()\n",
        "clf.fit(X_train_N, lin_reg_y_train)\n",
        "score = clf.score(X_test_N, lin_reg_y_test)\n",
        "# score = clf.score(X_val_N, lin_reg_y_val)\n",
        "print('Categorical naive bayes accuracy: {:.2%}'.format(score))"
      ],
      "metadata": {
        "colab": {
          "base_uri": "https://localhost:8080/"
        },
        "id": "FzvCWeJZqlpI",
        "outputId": "c80ca865-677f-4e7b-f25a-cb3e8f658535"
      },
      "execution_count": null,
      "outputs": [
        {
          "output_type": "stream",
          "name": "stdout",
          "text": [
            "Categorical naive bayes accuracy: 32.12%\n"
          ]
        }
      ]
    },
    {
      "cell_type": "code",
      "source": [
        "from sklearn.naive_bayes import MultinomialNB\n",
        "clf = MultinomialNB()\n",
        "clf.fit(X_train_N, lin_reg_y_train)\n",
        "score = clf.score(X_test_N, lin_reg_y_test)\n",
        "# score = clf.score(X_val_N, lin_reg_y_val)\n",
        "print('Multinomial naive bayes accuracy: {:.2%}'.format(score))"
      ],
      "metadata": {
        "colab": {
          "base_uri": "https://localhost:8080/"
        },
        "id": "KN5mebRzz914",
        "outputId": "d42c02fd-b9b6-47ec-bf8c-ba7bb72f9d14"
      },
      "execution_count": null,
      "outputs": [
        {
          "output_type": "stream",
          "name": "stdout",
          "text": [
            "Multinomial naive bayes accuracy: 34.50%\n"
          ]
        }
      ]
    },
    {
      "cell_type": "code",
      "source": [
        "from sklearn.linear_model import LogisticRegression\n",
        "# reg = LogisticRegression(multi_class='multinomial', max_iter = 100).fit(X_train_N, lin_reg_y_train)\n",
        "# score = reg.score(X_test_N, lin_reg_y_test)\n",
        "# print('Logistic regression accuracy: {:.2%}'.format(score))\n",
        "# reg = LogisticRegression(multi_class='multinomial', max_iter = 175).fit(X_train_N, lin_reg_y_train)\n",
        "# score = reg.score(X_test_N, lin_reg_y_test)\n",
        "# print('Logistic regression accuracy: {:.2%}'.format(score))\n",
        "# reg = LogisticRegression(multi_class='multinomial', max_iter = 200).fit(X_train_N, lin_reg_y_train)\n",
        "# score = reg.score(X_test_N, lin_reg_y_test)\n",
        "# print('Logistic regression accuracy: {:.2%}'.format(score))\n",
        "# reg = LogisticRegression(multi_class='multinomial', max_iter = 225).fit(X_train_N, lin_reg_y_train)\n",
        "# score = reg.score(X_test_N, lin_reg_y_test)\n",
        "# print('Logistic regression accuracy: {:.2%}'.format(score))\n",
        "reg = LogisticRegression(multi_class='multinomial', max_iter = 500).fit(X_train_N, lin_reg_y_train)\n",
        "score = reg.score(X_test_N, lin_reg_y_test)\n",
        "print('Logistic regression accuracy: {:.2%}'.format(score))\n",
        "score = reg.score(X_val_N, lin_reg_y_val)\n",
        "print('Logistic regression accuracy: {:.2%}'.format(score))"
      ],
      "metadata": {
        "colab": {
          "base_uri": "https://localhost:8080/"
        },
        "id": "hLV6WK_7GOZN",
        "outputId": "799cebfe-f077-410e-c268-67851c02f3bc"
      },
      "execution_count": null,
      "outputs": [
        {
          "output_type": "stream",
          "name": "stdout",
          "text": [
            "Logistic regression accuracy: 40.62%\n",
            "Logistic regression accuracy: 44.25%\n"
          ]
        }
      ]
    },
    {
      "cell_type": "code",
      "source": [
        "from sklearn.linear_model import Perceptron\n",
        "reg = Perceptron().fit(X_train_N, lin_reg_y_train)\n",
        "score = reg.score(X_test_N, lin_reg_y_test)\n",
        "score = reg.score(X_val_N, lin_reg_y_val)\n",
        "print('Perceptron accuracy: {:.2%}'.format(score))"
      ],
      "metadata": {
        "colab": {
          "base_uri": "https://localhost:8080/"
        },
        "id": "R7nw-XH2xpz9",
        "outputId": "5f98395c-9c21-432c-f36d-23aed58a4577"
      },
      "execution_count": null,
      "outputs": [
        {
          "output_type": "stream",
          "name": "stdout",
          "text": [
            "Perceptron accuracy: 35.25%\n"
          ]
        }
      ]
    },
    {
      "cell_type": "markdown",
      "source": [
        "#OYNAKLIK\n"
      ],
      "metadata": {
        "id": "CUPEczEH2Cv-"
      }
    },
    {
      "cell_type": "code",
      "source": [
        "# Be sure training samples are shuffled.\n",
        "X_TRAIN_N, echo_Y_train = skl.utils.shuffle(X_TRAIN_N, echo_Y_train, random_state=42)\n",
        "\n",
        "# Standardize features by removing the mean and scaling to unit variance.\n",
        "scaler = skl.preprocessing.StandardScaler(copy=False)\n",
        "scaler.fit_transform(X_TRAIN_N)\n",
        "scaler.transform(X_TEST_N)\n",
        "\n",
        "def train_poly(tol, deg):\n",
        "    clf = skl.svm.SVC(kernel = 'poly', tol = tol, degree = deg)\n",
        "    clf.fit(X_TRAIN_N, echo_Y_train)\n",
        "    score = clf.score(X_TEST_N, echo_Y_test)\n",
        "    return score\n",
        "\n",
        "def train_rbf(tol):\n",
        "    clf = skl.svm.SVC(kernel = 'rbf', tol = tol)\n",
        "    clf.fit(X_TRAIN_N, echo_Y_train)\n",
        "    score = clf.score(X_TEST_N, echo_Y_test)\n",
        "    return score\n",
        "\n",
        "print('SVM Polynomial Kernel: ')\n",
        "for i in (1, 2, 3, 4):\n",
        "    for j in (1e0, 1e-1, 1e-2, 1e-3):\n",
        "        print('degree = %d, tolerance = %f, accuracy = %.2f'%(i, j, 100*train_poly(i, j)))\n",
        "\n",
        "print('\\nSVM rbf Kernel: ')\n",
        "for i in (1e0, 1e-1, 1e-2, 1e-3):\n",
        "    print('tolerance = %f, accuracy = %.2f'%(i, 100*train_rbf(i)))"
      ],
      "metadata": {
        "colab": {
          "base_uri": "https://localhost:8080/"
        },
        "id": "4zxNWsg7yezm",
        "outputId": "04121909-65b5-497e-f5e0-f76747f23bc0"
      },
      "execution_count": null,
      "outputs": [
        {
          "output_type": "stream",
          "name": "stdout",
          "text": [
            "SVM Polynomial Kernel: \n",
            "degree = 1, tolerance = 1.000000, accuracy = 53.44\n",
            "degree = 1, tolerance = 0.100000, accuracy = 5.29\n",
            "degree = 1, tolerance = 0.010000, accuracy = 5.29\n",
            "degree = 1, tolerance = 0.001000, accuracy = 5.29\n",
            "degree = 2, tolerance = 1.000000, accuracy = 31.75\n",
            "degree = 2, tolerance = 0.100000, accuracy = 5.29\n",
            "degree = 2, tolerance = 0.010000, accuracy = 5.29\n",
            "degree = 2, tolerance = 0.001000, accuracy = 5.29\n",
            "degree = 3, tolerance = 1.000000, accuracy = 18.52\n",
            "degree = 3, tolerance = 0.100000, accuracy = 18.52\n",
            "degree = 3, tolerance = 0.010000, accuracy = 18.52\n",
            "degree = 3, tolerance = 0.001000, accuracy = 18.52\n",
            "degree = 4, tolerance = 1.000000, accuracy = 18.52\n",
            "degree = 4, tolerance = 0.100000, accuracy = 18.52\n",
            "degree = 4, tolerance = 0.010000, accuracy = 18.52\n",
            "degree = 4, tolerance = 0.001000, accuracy = 18.52\n",
            "\n",
            "SVM rbf Kernel: \n",
            "tolerance = 1.000000, accuracy = 51.85\n",
            "tolerance = 0.100000, accuracy = 59.26\n",
            "tolerance = 0.010000, accuracy = 59.26\n",
            "tolerance = 0.001000, accuracy = 58.73\n"
          ]
        }
      ]
    },
    {
      "cell_type": "code",
      "source": [
        "clf = skl.svm.SVC(kernel = 'rbf', tol = 0.1)\n",
        "clf.fit(X_TRAIN_N, echo_Y_train)\n",
        "clf.score(X_VAL_N, echo_Y_val)"
      ],
      "metadata": {
        "colab": {
          "base_uri": "https://localhost:8080/"
        },
        "id": "PM4V_n2OV5lk",
        "outputId": "0d761187-b785-400c-99eb-0b8aaba9bdfb"
      },
      "execution_count": null,
      "outputs": [
        {
          "output_type": "execute_result",
          "data": {
            "text/plain": [
              "0.5932203389830508"
            ]
          },
          "metadata": {},
          "execution_count": 37
        }
      ]
    },
    {
      "cell_type": "code",
      "source": [
        "from sklearn.neighbors import KNeighborsClassifier\n",
        "\n",
        "for i in range(1,50):\n",
        "    neigh = KNeighborsClassifier(n_neighbors=i*2+1)\n",
        "    neigh.fit(X_TRAIN_N, echo_Y_train)\n",
        "    score = neigh.score(X_TEST_N, echo_Y_test)\n",
        "    print('kNN accuracy when k = ',i*2+1,': {:.2%}'.format(score))"
      ],
      "metadata": {
        "colab": {
          "base_uri": "https://localhost:8080/"
        },
        "id": "taxcAjGa2M4m",
        "outputId": "5d6bbc0e-e0a7-4e97-909e-3b0e7d701d68"
      },
      "execution_count": null,
      "outputs": [
        {
          "output_type": "stream",
          "name": "stdout",
          "text": [
            "kNN accuracy when k =  3 : 48.68%\n",
            "kNN accuracy when k =  5 : 47.62%\n",
            "kNN accuracy when k =  7 : 51.32%\n",
            "kNN accuracy when k =  9 : 54.50%\n",
            "kNN accuracy when k =  11 : 52.38%\n",
            "kNN accuracy when k =  13 : 53.97%\n",
            "kNN accuracy when k =  15 : 55.03%\n",
            "kNN accuracy when k =  17 : 56.08%\n",
            "kNN accuracy when k =  19 : 53.44%\n",
            "kNN accuracy when k =  21 : 58.20%\n",
            "kNN accuracy when k =  23 : 56.08%\n",
            "kNN accuracy when k =  25 : 55.56%\n",
            "kNN accuracy when k =  27 : 56.08%\n",
            "kNN accuracy when k =  29 : 54.50%\n",
            "kNN accuracy when k =  31 : 55.56%\n",
            "kNN accuracy when k =  33 : 55.56%\n",
            "kNN accuracy when k =  35 : 57.67%\n",
            "kNN accuracy when k =  37 : 57.14%\n",
            "kNN accuracy when k =  39 : 57.14%\n",
            "kNN accuracy when k =  41 : 57.14%\n",
            "kNN accuracy when k =  43 : 54.50%\n",
            "kNN accuracy when k =  45 : 56.61%\n",
            "kNN accuracy when k =  47 : 55.56%\n",
            "kNN accuracy when k =  49 : 54.50%\n",
            "kNN accuracy when k =  51 : 55.56%\n",
            "kNN accuracy when k =  53 : 55.03%\n",
            "kNN accuracy when k =  55 : 53.97%\n",
            "kNN accuracy when k =  57 : 53.97%\n",
            "kNN accuracy when k =  59 : 53.44%\n",
            "kNN accuracy when k =  61 : 53.44%\n",
            "kNN accuracy when k =  63 : 52.91%\n",
            "kNN accuracy when k =  65 : 52.91%\n",
            "kNN accuracy when k =  67 : 50.79%\n",
            "kNN accuracy when k =  69 : 51.85%\n",
            "kNN accuracy when k =  71 : 51.85%\n",
            "kNN accuracy when k =  73 : 50.79%\n",
            "kNN accuracy when k =  75 : 51.85%\n",
            "kNN accuracy when k =  77 : 51.85%\n",
            "kNN accuracy when k =  79 : 52.38%\n",
            "kNN accuracy when k =  81 : 53.44%\n",
            "kNN accuracy when k =  83 : 52.38%\n",
            "kNN accuracy when k =  85 : 53.44%\n",
            "kNN accuracy when k =  87 : 52.91%\n",
            "kNN accuracy when k =  89 : 53.44%\n",
            "kNN accuracy when k =  91 : 52.91%\n",
            "kNN accuracy when k =  93 : 52.91%\n",
            "kNN accuracy when k =  95 : 51.85%\n",
            "kNN accuracy when k =  97 : 52.91%\n",
            "kNN accuracy when k =  99 : 52.91%\n"
          ]
        }
      ]
    },
    {
      "cell_type": "code",
      "source": [
        "neigh = KNeighborsClassifier(n_neighbors=21)\n",
        "neigh.fit(X_TRAIN_N, echo_Y_train)\n",
        "neigh.score(X_VAL_N, echo_Y_val)"
      ],
      "metadata": {
        "colab": {
          "base_uri": "https://localhost:8080/"
        },
        "id": "Ux-pZBaqXVWy",
        "outputId": "53a82941-d611-4125-8795-2d21cc88d48e"
      },
      "execution_count": null,
      "outputs": [
        {
          "output_type": "execute_result",
          "data": {
            "text/plain": [
              "0.5169491525423728"
            ]
          },
          "metadata": {},
          "execution_count": 38
        }
      ]
    },
    {
      "cell_type": "code",
      "source": [
        "from sklearn.naive_bayes import GaussianNB\n",
        "clf = GaussianNB()\n",
        "clf.fit(X_TRAIN_N, echo_Y_train)\n",
        "score = clf.score(X_TEST_N, echo_Y_test)\n",
        "# score = clf.score(X_VAL_N, echo_Y_val)\n",
        "print('Gaussian naive bayes accuracy: {:.2%}'.format(score))"
      ],
      "metadata": {
        "colab": {
          "base_uri": "https://localhost:8080/"
        },
        "id": "qO9p1BLi2e7p",
        "outputId": "18b527d3-dc71-4665-ed4a-4217f4fbbe74"
      },
      "execution_count": null,
      "outputs": [
        {
          "output_type": "stream",
          "name": "stdout",
          "text": [
            "Gaussian naive bayes accuracy: 55.56%\n"
          ]
        }
      ]
    },
    {
      "cell_type": "code",
      "source": [
        "from sklearn.naive_bayes import MultinomialNB\n",
        "clf = MultinomialNB()\n",
        "clf.fit(X_TRAIN_N, echo_Y_train)\n",
        "score = clf.score(X_TEST_N, echo_Y_test)\n",
        "score = clf.score(X_VAL_N, echo_Y_val)\n",
        "print('Multinomial naive bayes accuracy: {:.2%}'.format(score))"
      ],
      "metadata": {
        "colab": {
          "base_uri": "https://localhost:8080/"
        },
        "id": "A3IePfRCf_uY",
        "outputId": "2ce3091e-5fe5-4f5f-ec83-9ac7f46ad9e6"
      },
      "execution_count": null,
      "outputs": [
        {
          "output_type": "stream",
          "name": "stdout",
          "text": [
            "Multinomial naive bayes accuracy: 47.46%\n"
          ]
        }
      ]
    },
    {
      "cell_type": "code",
      "source": [
        "TRAIN_Y = dict()\n",
        "TEST_Y = dict()\n",
        "VAL_Y = dict()\n",
        "for i in echo_Y_train.keys():\n",
        "    TRAIN_Y[i] = dct[echo_Y_train[i]]\n",
        "for i in echo_Y_test.keys():\n",
        "    TEST_Y[i] = dct[echo_Y_test[i]]\n",
        "for i in echo_Y_val.keys():\n",
        "    VAL_Y[i] = dct[echo_Y_val[i]]\n",
        "lin_reg_y_TRAIN = np.array(list(TRAIN_Y.values()))\n",
        "lin_reg_y_TEST = np.array(list(TEST_Y.values()))\n",
        "lin_reg_y_VAL = np.array(list(VAL_Y.values()))"
      ],
      "metadata": {
        "id": "NchEpEu-2SpX"
      },
      "execution_count": null,
      "outputs": []
    },
    {
      "cell_type": "code",
      "source": [
        "from sklearn.naive_bayes import ComplementNB\n",
        "clf = ComplementNB()\n",
        "clf.fit(X_TRAIN_N, lin_reg_y_TRAIN)\n",
        "score = clf.score(X_TEST_N, lin_reg_y_TEST)\n",
        "# score = clf.score(X_VAL_N, lin_reg_y_VAL)\n",
        "print('Categorical naive bayes accuracy: {:.2%}'.format(score))"
      ],
      "metadata": {
        "colab": {
          "base_uri": "https://localhost:8080/"
        },
        "id": "kLu1SyI560f2",
        "outputId": "0e7efc25-851a-4e19-8f9d-a6d891544ff0"
      },
      "execution_count": null,
      "outputs": [
        {
          "output_type": "stream",
          "name": "stdout",
          "text": [
            "Categorical naive bayes accuracy: 50.79%\n"
          ]
        }
      ]
    },
    {
      "cell_type": "code",
      "source": [
        "from sklearn.linear_model import LogisticRegression\n",
        "reg = LogisticRegression(multi_class='multinomial', max_iter = 10).fit(X_TRAIN_N, lin_reg_y_TRAIN)\n",
        "score = reg.score(X_TEST_N, lin_reg_y_TEST)\n",
        "print('10: Logistic regression accuracy: {:.2%}'.format(score))\n",
        "reg = LogisticRegression(multi_class='multinomial', max_iter = 20).fit(X_TRAIN_N, lin_reg_y_TRAIN)\n",
        "score = reg.score(X_TEST_N, lin_reg_y_TEST)\n",
        "print('20: Logistic regression accuracy: {:.2%}'.format(score))\n",
        "reg = LogisticRegression(multi_class='multinomial', max_iter = 50).fit(X_TRAIN_N, lin_reg_y_TRAIN)\n",
        "score = reg.score(X_TEST_N, lin_reg_y_TEST)\n",
        "print('50: Logistic regression accuracy: {:.2%}'.format(score))\n",
        "score = reg.score(X_VAL_N, lin_reg_y_VAL)\n",
        "print('Validation Logistic regression accuracy: {:.2%}'.format(score))\n",
        "reg = LogisticRegression(multi_class='multinomial', max_iter = 75).fit(X_TRAIN_N, lin_reg_y_TRAIN)\n",
        "score = reg.score(X_TEST_N, lin_reg_y_TEST)\n",
        "print('75: Logistic regression accuracy: {:.2%}'.format(score))\n",
        "reg = LogisticRegression(multi_class='multinomial', max_iter = 100).fit(X_TRAIN_N, lin_reg_y_TRAIN)\n",
        "score = reg.score(X_TEST_N, lin_reg_y_TEST)\n",
        "print('100: Logistic regression accuracy: {:.2%}'.format(score))"
      ],
      "metadata": {
        "colab": {
          "base_uri": "https://localhost:8080/"
        },
        "id": "G1lubRm12pfy",
        "outputId": "d6f0bec2-3ada-4df3-db3b-8e6251ea48b0"
      },
      "execution_count": null,
      "outputs": [
        {
          "output_type": "stream",
          "name": "stdout",
          "text": [
            "10: Logistic regression accuracy: 52.91%\n",
            "20: Logistic regression accuracy: 54.50%\n",
            "50: Logistic regression accuracy: 55.03%\n",
            "Validation Logistic regression accuracy: 61.86%\n",
            "75: Logistic regression accuracy: 54.50%\n",
            "100: Logistic regression accuracy: 54.50%\n"
          ]
        }
      ]
    },
    {
      "cell_type": "code",
      "source": [
        "train_indexes.shape"
      ],
      "metadata": {
        "id": "4_jtrxjU36cw"
      },
      "execution_count": null,
      "outputs": []
    },
    {
      "cell_type": "code",
      "source": [
        "X_TRAIN"
      ],
      "metadata": {
        "id": "8byJ5u1D49lu"
      },
      "execution_count": null,
      "outputs": []
    },
    {
      "cell_type": "code",
      "source": [
        "X_TRAIN"
      ],
      "metadata": {
        "id": "nfm-HoqB58yV",
        "colab": {
          "base_uri": "https://localhost:8080/",
          "height": 450
        },
        "outputId": "537fe612-6253-47cf-a10e-4e26b5e379cd"
      },
      "execution_count": null,
      "outputs": [
        {
          "output_type": "execute_result",
          "data": {
            "text/html": [
              "\n",
              "  <div id=\"df-3d221c66-7953-44d9-8285-1c4dab4f761a\">\n",
              "    <div class=\"colab-df-container\">\n",
              "      <div>\n",
              "<style scoped>\n",
              "    .dataframe tbody tr th:only-of-type {\n",
              "        vertical-align: middle;\n",
              "    }\n",
              "\n",
              "    .dataframe tbody tr th {\n",
              "        vertical-align: top;\n",
              "    }\n",
              "\n",
              "    .dataframe thead th {\n",
              "        text-align: right;\n",
              "    }\n",
              "</style>\n",
              "<table border=\"1\" class=\"dataframe\">\n",
              "  <thead>\n",
              "    <tr style=\"text-align: right;\">\n",
              "      <th></th>\n",
              "      <th>acousticness</th>\n",
              "      <th>danceability</th>\n",
              "      <th>energy</th>\n",
              "      <th>instrumentalness</th>\n",
              "      <th>liveness</th>\n",
              "      <th>speechiness</th>\n",
              "      <th>tempo</th>\n",
              "      <th>valence</th>\n",
              "    </tr>\n",
              "    <tr>\n",
              "      <th>track_id</th>\n",
              "      <th></th>\n",
              "      <th></th>\n",
              "      <th></th>\n",
              "      <th></th>\n",
              "      <th></th>\n",
              "      <th></th>\n",
              "      <th></th>\n",
              "      <th></th>\n",
              "    </tr>\n",
              "  </thead>\n",
              "  <tbody>\n",
              "    <tr>\n",
              "      <th>2</th>\n",
              "      <td>0.416675</td>\n",
              "      <td>0.675894</td>\n",
              "      <td>0.634476</td>\n",
              "      <td>1.062807e-02</td>\n",
              "      <td>0.177647</td>\n",
              "      <td>0.159310</td>\n",
              "      <td>165.922</td>\n",
              "      <td>0.576661</td>\n",
              "    </tr>\n",
              "    <tr>\n",
              "      <th>5</th>\n",
              "      <td>0.043567</td>\n",
              "      <td>0.745566</td>\n",
              "      <td>0.701470</td>\n",
              "      <td>6.967990e-04</td>\n",
              "      <td>0.373143</td>\n",
              "      <td>0.124595</td>\n",
              "      <td>100.260</td>\n",
              "      <td>0.621661</td>\n",
              "    </tr>\n",
              "    <tr>\n",
              "      <th>10</th>\n",
              "      <td>0.951670</td>\n",
              "      <td>0.658179</td>\n",
              "      <td>0.924525</td>\n",
              "      <td>9.654270e-01</td>\n",
              "      <td>0.115474</td>\n",
              "      <td>0.032985</td>\n",
              "      <td>111.562</td>\n",
              "      <td>0.963590</td>\n",
              "    </tr>\n",
              "    <tr>\n",
              "      <th>140</th>\n",
              "      <td>0.376312</td>\n",
              "      <td>0.734079</td>\n",
              "      <td>0.265685</td>\n",
              "      <td>6.695811e-01</td>\n",
              "      <td>0.085995</td>\n",
              "      <td>0.039068</td>\n",
              "      <td>107.952</td>\n",
              "      <td>0.609991</td>\n",
              "    </tr>\n",
              "    <tr>\n",
              "      <th>141</th>\n",
              "      <td>0.963657</td>\n",
              "      <td>0.435933</td>\n",
              "      <td>0.075632</td>\n",
              "      <td>3.454935e-01</td>\n",
              "      <td>0.105686</td>\n",
              "      <td>0.026658</td>\n",
              "      <td>33.477</td>\n",
              "      <td>0.163950</td>\n",
              "    </tr>\n",
              "    <tr>\n",
              "      <th>...</th>\n",
              "      <td>...</td>\n",
              "      <td>...</td>\n",
              "      <td>...</td>\n",
              "      <td>...</td>\n",
              "      <td>...</td>\n",
              "      <td>...</td>\n",
              "      <td>...</td>\n",
              "      <td>...</td>\n",
              "    </tr>\n",
              "    <tr>\n",
              "      <th>123001</th>\n",
              "      <td>0.045738</td>\n",
              "      <td>0.472323</td>\n",
              "      <td>0.834652</td>\n",
              "      <td>2.280020e-05</td>\n",
              "      <td>0.249739</td>\n",
              "      <td>0.073384</td>\n",
              "      <td>77.513</td>\n",
              "      <td>0.179206</td>\n",
              "    </tr>\n",
              "    <tr>\n",
              "      <th>123002</th>\n",
              "      <td>0.241744</td>\n",
              "      <td>0.596352</td>\n",
              "      <td>0.579433</td>\n",
              "      <td>9.328010e-01</td>\n",
              "      <td>0.562251</td>\n",
              "      <td>0.027432</td>\n",
              "      <td>128.008</td>\n",
              "      <td>0.153574</td>\n",
              "    </tr>\n",
              "    <tr>\n",
              "      <th>123427</th>\n",
              "      <td>0.024610</td>\n",
              "      <td>0.337135</td>\n",
              "      <td>0.797854</td>\n",
              "      <td>7.110000e-08</td>\n",
              "      <td>0.158854</td>\n",
              "      <td>0.038150</td>\n",
              "      <td>167.926</td>\n",
              "      <td>0.657792</td>\n",
              "    </tr>\n",
              "    <tr>\n",
              "      <th>123821</th>\n",
              "      <td>0.737893</td>\n",
              "      <td>0.372404</td>\n",
              "      <td>0.329644</td>\n",
              "      <td>9.197810e-01</td>\n",
              "      <td>0.104495</td>\n",
              "      <td>0.031262</td>\n",
              "      <td>111.243</td>\n",
              "      <td>0.037006</td>\n",
              "    </tr>\n",
              "    <tr>\n",
              "      <th>124180</th>\n",
              "      <td>0.719748</td>\n",
              "      <td>0.743468</td>\n",
              "      <td>0.470952</td>\n",
              "      <td>3.689567e-02</td>\n",
              "      <td>0.112698</td>\n",
              "      <td>0.438508</td>\n",
              "      <td>173.851</td>\n",
              "      <td>0.810091</td>\n",
              "    </tr>\n",
              "  </tbody>\n",
              "</table>\n",
              "<p>987 rows × 8 columns</p>\n",
              "</div>\n",
              "      <button class=\"colab-df-convert\" onclick=\"convertToInteractive('df-3d221c66-7953-44d9-8285-1c4dab4f761a')\"\n",
              "              title=\"Convert this dataframe to an interactive table.\"\n",
              "              style=\"display:none;\">\n",
              "        \n",
              "  <svg xmlns=\"http://www.w3.org/2000/svg\" height=\"24px\"viewBox=\"0 0 24 24\"\n",
              "       width=\"24px\">\n",
              "    <path d=\"M0 0h24v24H0V0z\" fill=\"none\"/>\n",
              "    <path d=\"M18.56 5.44l.94 2.06.94-2.06 2.06-.94-2.06-.94-.94-2.06-.94 2.06-2.06.94zm-11 1L8.5 8.5l.94-2.06 2.06-.94-2.06-.94L8.5 2.5l-.94 2.06-2.06.94zm10 10l.94 2.06.94-2.06 2.06-.94-2.06-.94-.94-2.06-.94 2.06-2.06.94z\"/><path d=\"M17.41 7.96l-1.37-1.37c-.4-.4-.92-.59-1.43-.59-.52 0-1.04.2-1.43.59L10.3 9.45l-7.72 7.72c-.78.78-.78 2.05 0 2.83L4 21.41c.39.39.9.59 1.41.59.51 0 1.02-.2 1.41-.59l7.78-7.78 2.81-2.81c.8-.78.8-2.07 0-2.86zM5.41 20L4 18.59l7.72-7.72 1.47 1.35L5.41 20z\"/>\n",
              "  </svg>\n",
              "      </button>\n",
              "      \n",
              "  <style>\n",
              "    .colab-df-container {\n",
              "      display:flex;\n",
              "      flex-wrap:wrap;\n",
              "      gap: 12px;\n",
              "    }\n",
              "\n",
              "    .colab-df-convert {\n",
              "      background-color: #E8F0FE;\n",
              "      border: none;\n",
              "      border-radius: 50%;\n",
              "      cursor: pointer;\n",
              "      display: none;\n",
              "      fill: #1967D2;\n",
              "      height: 32px;\n",
              "      padding: 0 0 0 0;\n",
              "      width: 32px;\n",
              "    }\n",
              "\n",
              "    .colab-df-convert:hover {\n",
              "      background-color: #E2EBFA;\n",
              "      box-shadow: 0px 1px 2px rgba(60, 64, 67, 0.3), 0px 1px 3px 1px rgba(60, 64, 67, 0.15);\n",
              "      fill: #174EA6;\n",
              "    }\n",
              "\n",
              "    [theme=dark] .colab-df-convert {\n",
              "      background-color: #3B4455;\n",
              "      fill: #D2E3FC;\n",
              "    }\n",
              "\n",
              "    [theme=dark] .colab-df-convert:hover {\n",
              "      background-color: #434B5C;\n",
              "      box-shadow: 0px 1px 3px 1px rgba(0, 0, 0, 0.15);\n",
              "      filter: drop-shadow(0px 1px 2px rgba(0, 0, 0, 0.3));\n",
              "      fill: #FFFFFF;\n",
              "    }\n",
              "  </style>\n",
              "\n",
              "      <script>\n",
              "        const buttonEl =\n",
              "          document.querySelector('#df-3d221c66-7953-44d9-8285-1c4dab4f761a button.colab-df-convert');\n",
              "        buttonEl.style.display =\n",
              "          google.colab.kernel.accessAllowed ? 'block' : 'none';\n",
              "\n",
              "        async function convertToInteractive(key) {\n",
              "          const element = document.querySelector('#df-3d221c66-7953-44d9-8285-1c4dab4f761a');\n",
              "          const dataTable =\n",
              "            await google.colab.kernel.invokeFunction('convertToInteractive',\n",
              "                                                     [key], {});\n",
              "          if (!dataTable) return;\n",
              "\n",
              "          const docLinkHtml = 'Like what you see? Visit the ' +\n",
              "            '<a target=\"_blank\" href=https://colab.research.google.com/notebooks/data_table.ipynb>data table notebook</a>'\n",
              "            + ' to learn more about interactive tables.';\n",
              "          element.innerHTML = '';\n",
              "          dataTable['output_type'] = 'display_data';\n",
              "          await google.colab.output.renderOutput(dataTable, element);\n",
              "          const docLink = document.createElement('div');\n",
              "          docLink.innerHTML = docLinkHtml;\n",
              "          element.appendChild(docLink);\n",
              "        }\n",
              "      </script>\n",
              "    </div>\n",
              "  </div>\n",
              "  "
            ],
            "text/plain": [
              "          acousticness  danceability    energy  ...  speechiness    tempo   valence\n",
              "track_id                                        ...                                \n",
              "2             0.416675      0.675894  0.634476  ...     0.159310  165.922  0.576661\n",
              "5             0.043567      0.745566  0.701470  ...     0.124595  100.260  0.621661\n",
              "10            0.951670      0.658179  0.924525  ...     0.032985  111.562  0.963590\n",
              "140           0.376312      0.734079  0.265685  ...     0.039068  107.952  0.609991\n",
              "141           0.963657      0.435933  0.075632  ...     0.026658   33.477  0.163950\n",
              "...                ...           ...       ...  ...          ...      ...       ...\n",
              "123001        0.045738      0.472323  0.834652  ...     0.073384   77.513  0.179206\n",
              "123002        0.241744      0.596352  0.579433  ...     0.027432  128.008  0.153574\n",
              "123427        0.024610      0.337135  0.797854  ...     0.038150  167.926  0.657792\n",
              "123821        0.737893      0.372404  0.329644  ...     0.031262  111.243  0.037006\n",
              "124180        0.719748      0.743468  0.470952  ...     0.438508  173.851  0.810091\n",
              "\n",
              "[987 rows x 8 columns]"
            ]
          },
          "metadata": {},
          "execution_count": 55
        }
      ]
    },
    {
      "cell_type": "code",
      "source": [
        "X_TEST_N\n",
        "echo_Y_test"
      ],
      "metadata": {
        "id": "vHDotgHV6CzR"
      },
      "execution_count": null,
      "outputs": []
    },
    {
      "cell_type": "code",
      "source": [
        "tracks"
      ],
      "metadata": {
        "colab": {
          "base_uri": "https://localhost:8080/",
          "height": 1000
        },
        "id": "5ZdoeBJ_6my-",
        "outputId": "76b992fb-b959-4729-8b86-2486df68e76b"
      },
      "execution_count": null,
      "outputs": [
        {
          "output_type": "execute_result",
          "data": {
            "text/html": [
              "\n",
              "  <div id=\"df-ddda9b2c-0328-4f86-8960-401f4fab1c8b\">\n",
              "    <div class=\"colab-df-container\">\n",
              "      <div>\n",
              "<style scoped>\n",
              "    .dataframe tbody tr th:only-of-type {\n",
              "        vertical-align: middle;\n",
              "    }\n",
              "\n",
              "    .dataframe tbody tr th {\n",
              "        vertical-align: top;\n",
              "    }\n",
              "\n",
              "    .dataframe thead tr th {\n",
              "        text-align: left;\n",
              "    }\n",
              "\n",
              "    .dataframe thead tr:last-of-type th {\n",
              "        text-align: right;\n",
              "    }\n",
              "</style>\n",
              "<table border=\"1\" class=\"dataframe\">\n",
              "  <thead>\n",
              "    <tr>\n",
              "      <th></th>\n",
              "      <th colspan=\"13\" halign=\"left\">album</th>\n",
              "      <th colspan=\"17\" halign=\"left\">artist</th>\n",
              "      <th colspan=\"2\" halign=\"left\">set</th>\n",
              "      <th colspan=\"20\" halign=\"left\">track</th>\n",
              "    </tr>\n",
              "    <tr>\n",
              "      <th></th>\n",
              "      <th>comments</th>\n",
              "      <th>date_created</th>\n",
              "      <th>date_released</th>\n",
              "      <th>engineer</th>\n",
              "      <th>favorites</th>\n",
              "      <th>id</th>\n",
              "      <th>information</th>\n",
              "      <th>listens</th>\n",
              "      <th>producer</th>\n",
              "      <th>tags</th>\n",
              "      <th>title</th>\n",
              "      <th>tracks</th>\n",
              "      <th>type</th>\n",
              "      <th>active_year_begin</th>\n",
              "      <th>active_year_end</th>\n",
              "      <th>associated_labels</th>\n",
              "      <th>bio</th>\n",
              "      <th>comments</th>\n",
              "      <th>date_created</th>\n",
              "      <th>favorites</th>\n",
              "      <th>id</th>\n",
              "      <th>latitude</th>\n",
              "      <th>location</th>\n",
              "      <th>longitude</th>\n",
              "      <th>members</th>\n",
              "      <th>name</th>\n",
              "      <th>related_projects</th>\n",
              "      <th>tags</th>\n",
              "      <th>website</th>\n",
              "      <th>wikipedia_page</th>\n",
              "      <th>split</th>\n",
              "      <th>subset</th>\n",
              "      <th>bit_rate</th>\n",
              "      <th>comments</th>\n",
              "      <th>composer</th>\n",
              "      <th>date_created</th>\n",
              "      <th>date_recorded</th>\n",
              "      <th>duration</th>\n",
              "      <th>favorites</th>\n",
              "      <th>genre_top</th>\n",
              "      <th>genres</th>\n",
              "      <th>genres_all</th>\n",
              "      <th>information</th>\n",
              "      <th>interest</th>\n",
              "      <th>language_code</th>\n",
              "      <th>license</th>\n",
              "      <th>listens</th>\n",
              "      <th>lyricist</th>\n",
              "      <th>number</th>\n",
              "      <th>publisher</th>\n",
              "      <th>tags</th>\n",
              "      <th>title</th>\n",
              "    </tr>\n",
              "    <tr>\n",
              "      <th>track_id</th>\n",
              "      <th></th>\n",
              "      <th></th>\n",
              "      <th></th>\n",
              "      <th></th>\n",
              "      <th></th>\n",
              "      <th></th>\n",
              "      <th></th>\n",
              "      <th></th>\n",
              "      <th></th>\n",
              "      <th></th>\n",
              "      <th></th>\n",
              "      <th></th>\n",
              "      <th></th>\n",
              "      <th></th>\n",
              "      <th></th>\n",
              "      <th></th>\n",
              "      <th></th>\n",
              "      <th></th>\n",
              "      <th></th>\n",
              "      <th></th>\n",
              "      <th></th>\n",
              "      <th></th>\n",
              "      <th></th>\n",
              "      <th></th>\n",
              "      <th></th>\n",
              "      <th></th>\n",
              "      <th></th>\n",
              "      <th></th>\n",
              "      <th></th>\n",
              "      <th></th>\n",
              "      <th></th>\n",
              "      <th></th>\n",
              "      <th></th>\n",
              "      <th></th>\n",
              "      <th></th>\n",
              "      <th></th>\n",
              "      <th></th>\n",
              "      <th></th>\n",
              "      <th></th>\n",
              "      <th></th>\n",
              "      <th></th>\n",
              "      <th></th>\n",
              "      <th></th>\n",
              "      <th></th>\n",
              "      <th></th>\n",
              "      <th></th>\n",
              "      <th></th>\n",
              "      <th></th>\n",
              "      <th></th>\n",
              "      <th></th>\n",
              "      <th></th>\n",
              "      <th></th>\n",
              "    </tr>\n",
              "  </thead>\n",
              "  <tbody>\n",
              "    <tr>\n",
              "      <th>2</th>\n",
              "      <td>0</td>\n",
              "      <td>2008-11-26 01:44:45</td>\n",
              "      <td>2009-01-05</td>\n",
              "      <td>NaN</td>\n",
              "      <td>4</td>\n",
              "      <td>1</td>\n",
              "      <td>&lt;p&gt;&lt;/p&gt;</td>\n",
              "      <td>6073</td>\n",
              "      <td>NaN</td>\n",
              "      <td>[]</td>\n",
              "      <td>AWOL - A Way Of Life</td>\n",
              "      <td>7</td>\n",
              "      <td>Album</td>\n",
              "      <td>2006-01-01</td>\n",
              "      <td>NaT</td>\n",
              "      <td>NaN</td>\n",
              "      <td>&lt;p&gt;A Way Of Life, A Collective of Hip-Hop from...</td>\n",
              "      <td>0</td>\n",
              "      <td>2008-11-26 01:42:32</td>\n",
              "      <td>9</td>\n",
              "      <td>1</td>\n",
              "      <td>40.058324</td>\n",
              "      <td>New Jersey</td>\n",
              "      <td>-74.405661</td>\n",
              "      <td>Sajje Morocco,Brownbum,ZawidaGod,Custodian of ...</td>\n",
              "      <td>AWOL</td>\n",
              "      <td>The list of past projects is 2 long but every1...</td>\n",
              "      <td>[awol]</td>\n",
              "      <td>http://www.AzillionRecords.blogspot.com</td>\n",
              "      <td>NaN</td>\n",
              "      <td>training</td>\n",
              "      <td>small</td>\n",
              "      <td>256000</td>\n",
              "      <td>0</td>\n",
              "      <td>NaN</td>\n",
              "      <td>2008-11-26 01:48:12</td>\n",
              "      <td>2008-11-26</td>\n",
              "      <td>168</td>\n",
              "      <td>2</td>\n",
              "      <td>Hip-Hop</td>\n",
              "      <td>[21]</td>\n",
              "      <td>[21]</td>\n",
              "      <td>NaN</td>\n",
              "      <td>4656</td>\n",
              "      <td>en</td>\n",
              "      <td>Attribution-NonCommercial-ShareAlike 3.0 Inter...</td>\n",
              "      <td>1293</td>\n",
              "      <td>NaN</td>\n",
              "      <td>3</td>\n",
              "      <td>NaN</td>\n",
              "      <td>[]</td>\n",
              "      <td>Food</td>\n",
              "    </tr>\n",
              "    <tr>\n",
              "      <th>3</th>\n",
              "      <td>0</td>\n",
              "      <td>2008-11-26 01:44:45</td>\n",
              "      <td>2009-01-05</td>\n",
              "      <td>NaN</td>\n",
              "      <td>4</td>\n",
              "      <td>1</td>\n",
              "      <td>&lt;p&gt;&lt;/p&gt;</td>\n",
              "      <td>6073</td>\n",
              "      <td>NaN</td>\n",
              "      <td>[]</td>\n",
              "      <td>AWOL - A Way Of Life</td>\n",
              "      <td>7</td>\n",
              "      <td>Album</td>\n",
              "      <td>2006-01-01</td>\n",
              "      <td>NaT</td>\n",
              "      <td>NaN</td>\n",
              "      <td>&lt;p&gt;A Way Of Life, A Collective of Hip-Hop from...</td>\n",
              "      <td>0</td>\n",
              "      <td>2008-11-26 01:42:32</td>\n",
              "      <td>9</td>\n",
              "      <td>1</td>\n",
              "      <td>40.058324</td>\n",
              "      <td>New Jersey</td>\n",
              "      <td>-74.405661</td>\n",
              "      <td>Sajje Morocco,Brownbum,ZawidaGod,Custodian of ...</td>\n",
              "      <td>AWOL</td>\n",
              "      <td>The list of past projects is 2 long but every1...</td>\n",
              "      <td>[awol]</td>\n",
              "      <td>http://www.AzillionRecords.blogspot.com</td>\n",
              "      <td>NaN</td>\n",
              "      <td>training</td>\n",
              "      <td>medium</td>\n",
              "      <td>256000</td>\n",
              "      <td>0</td>\n",
              "      <td>NaN</td>\n",
              "      <td>2008-11-26 01:48:14</td>\n",
              "      <td>2008-11-26</td>\n",
              "      <td>237</td>\n",
              "      <td>1</td>\n",
              "      <td>Hip-Hop</td>\n",
              "      <td>[21]</td>\n",
              "      <td>[21]</td>\n",
              "      <td>NaN</td>\n",
              "      <td>1470</td>\n",
              "      <td>en</td>\n",
              "      <td>Attribution-NonCommercial-ShareAlike 3.0 Inter...</td>\n",
              "      <td>514</td>\n",
              "      <td>NaN</td>\n",
              "      <td>4</td>\n",
              "      <td>NaN</td>\n",
              "      <td>[]</td>\n",
              "      <td>Electric Ave</td>\n",
              "    </tr>\n",
              "    <tr>\n",
              "      <th>5</th>\n",
              "      <td>0</td>\n",
              "      <td>2008-11-26 01:44:45</td>\n",
              "      <td>2009-01-05</td>\n",
              "      <td>NaN</td>\n",
              "      <td>4</td>\n",
              "      <td>1</td>\n",
              "      <td>&lt;p&gt;&lt;/p&gt;</td>\n",
              "      <td>6073</td>\n",
              "      <td>NaN</td>\n",
              "      <td>[]</td>\n",
              "      <td>AWOL - A Way Of Life</td>\n",
              "      <td>7</td>\n",
              "      <td>Album</td>\n",
              "      <td>2006-01-01</td>\n",
              "      <td>NaT</td>\n",
              "      <td>NaN</td>\n",
              "      <td>&lt;p&gt;A Way Of Life, A Collective of Hip-Hop from...</td>\n",
              "      <td>0</td>\n",
              "      <td>2008-11-26 01:42:32</td>\n",
              "      <td>9</td>\n",
              "      <td>1</td>\n",
              "      <td>40.058324</td>\n",
              "      <td>New Jersey</td>\n",
              "      <td>-74.405661</td>\n",
              "      <td>Sajje Morocco,Brownbum,ZawidaGod,Custodian of ...</td>\n",
              "      <td>AWOL</td>\n",
              "      <td>The list of past projects is 2 long but every1...</td>\n",
              "      <td>[awol]</td>\n",
              "      <td>http://www.AzillionRecords.blogspot.com</td>\n",
              "      <td>NaN</td>\n",
              "      <td>training</td>\n",
              "      <td>small</td>\n",
              "      <td>256000</td>\n",
              "      <td>0</td>\n",
              "      <td>NaN</td>\n",
              "      <td>2008-11-26 01:48:20</td>\n",
              "      <td>2008-11-26</td>\n",
              "      <td>206</td>\n",
              "      <td>6</td>\n",
              "      <td>Hip-Hop</td>\n",
              "      <td>[21]</td>\n",
              "      <td>[21]</td>\n",
              "      <td>NaN</td>\n",
              "      <td>1933</td>\n",
              "      <td>en</td>\n",
              "      <td>Attribution-NonCommercial-ShareAlike 3.0 Inter...</td>\n",
              "      <td>1151</td>\n",
              "      <td>NaN</td>\n",
              "      <td>6</td>\n",
              "      <td>NaN</td>\n",
              "      <td>[]</td>\n",
              "      <td>This World</td>\n",
              "    </tr>\n",
              "    <tr>\n",
              "      <th>10</th>\n",
              "      <td>0</td>\n",
              "      <td>2008-11-26 01:45:08</td>\n",
              "      <td>2008-02-06</td>\n",
              "      <td>NaN</td>\n",
              "      <td>4</td>\n",
              "      <td>6</td>\n",
              "      <td>NaN</td>\n",
              "      <td>47632</td>\n",
              "      <td>NaN</td>\n",
              "      <td>[]</td>\n",
              "      <td>Constant Hitmaker</td>\n",
              "      <td>2</td>\n",
              "      <td>Album</td>\n",
              "      <td>NaT</td>\n",
              "      <td>NaT</td>\n",
              "      <td>Mexican Summer, Richie Records, Woodsist, Skul...</td>\n",
              "      <td>&lt;p&gt;&lt;span style=\"font-family:Verdana, Geneva, A...</td>\n",
              "      <td>3</td>\n",
              "      <td>2008-11-26 01:42:55</td>\n",
              "      <td>74</td>\n",
              "      <td>6</td>\n",
              "      <td>NaN</td>\n",
              "      <td>NaN</td>\n",
              "      <td>NaN</td>\n",
              "      <td>Kurt Vile, the Violators</td>\n",
              "      <td>Kurt Vile</td>\n",
              "      <td>NaN</td>\n",
              "      <td>[philly, kurt vile]</td>\n",
              "      <td>http://kurtvile.com</td>\n",
              "      <td>NaN</td>\n",
              "      <td>training</td>\n",
              "      <td>small</td>\n",
              "      <td>192000</td>\n",
              "      <td>0</td>\n",
              "      <td>Kurt Vile</td>\n",
              "      <td>2008-11-25 17:49:06</td>\n",
              "      <td>2008-11-26</td>\n",
              "      <td>161</td>\n",
              "      <td>178</td>\n",
              "      <td>Pop</td>\n",
              "      <td>[10]</td>\n",
              "      <td>[10]</td>\n",
              "      <td>NaN</td>\n",
              "      <td>54881</td>\n",
              "      <td>en</td>\n",
              "      <td>Attribution-NonCommercial-NoDerivatives (aka M...</td>\n",
              "      <td>50135</td>\n",
              "      <td>NaN</td>\n",
              "      <td>1</td>\n",
              "      <td>NaN</td>\n",
              "      <td>[]</td>\n",
              "      <td>Freeway</td>\n",
              "    </tr>\n",
              "    <tr>\n",
              "      <th>20</th>\n",
              "      <td>0</td>\n",
              "      <td>2008-11-26 01:45:05</td>\n",
              "      <td>2009-01-06</td>\n",
              "      <td>NaN</td>\n",
              "      <td>2</td>\n",
              "      <td>4</td>\n",
              "      <td>&lt;p&gt; \"spiritual songs\" from Nicky Cook&lt;/p&gt;</td>\n",
              "      <td>2710</td>\n",
              "      <td>NaN</td>\n",
              "      <td>[]</td>\n",
              "      <td>Niris</td>\n",
              "      <td>13</td>\n",
              "      <td>Album</td>\n",
              "      <td>1990-01-01</td>\n",
              "      <td>2011-01-01</td>\n",
              "      <td>NaN</td>\n",
              "      <td>&lt;p&gt;Songs written by: Nicky Cook&lt;/p&gt;\\n&lt;p&gt;VOCALS...</td>\n",
              "      <td>2</td>\n",
              "      <td>2008-11-26 01:42:52</td>\n",
              "      <td>10</td>\n",
              "      <td>4</td>\n",
              "      <td>51.895927</td>\n",
              "      <td>Colchester England</td>\n",
              "      <td>0.891874</td>\n",
              "      <td>Nicky Cook\\n</td>\n",
              "      <td>Nicky Cook</td>\n",
              "      <td>NaN</td>\n",
              "      <td>[instrumentals, experimental pop, post punk, e...</td>\n",
              "      <td>NaN</td>\n",
              "      <td>NaN</td>\n",
              "      <td>training</td>\n",
              "      <td>large</td>\n",
              "      <td>256000</td>\n",
              "      <td>0</td>\n",
              "      <td>NaN</td>\n",
              "      <td>2008-11-26 01:48:56</td>\n",
              "      <td>2008-01-01</td>\n",
              "      <td>311</td>\n",
              "      <td>0</td>\n",
              "      <td>NaN</td>\n",
              "      <td>[76, 103]</td>\n",
              "      <td>[17, 10, 76, 103]</td>\n",
              "      <td>NaN</td>\n",
              "      <td>978</td>\n",
              "      <td>en</td>\n",
              "      <td>Attribution-NonCommercial-NoDerivatives (aka M...</td>\n",
              "      <td>361</td>\n",
              "      <td>NaN</td>\n",
              "      <td>3</td>\n",
              "      <td>NaN</td>\n",
              "      <td>[]</td>\n",
              "      <td>Spiritual Level</td>\n",
              "    </tr>\n",
              "    <tr>\n",
              "      <th>...</th>\n",
              "      <td>...</td>\n",
              "      <td>...</td>\n",
              "      <td>...</td>\n",
              "      <td>...</td>\n",
              "      <td>...</td>\n",
              "      <td>...</td>\n",
              "      <td>...</td>\n",
              "      <td>...</td>\n",
              "      <td>...</td>\n",
              "      <td>...</td>\n",
              "      <td>...</td>\n",
              "      <td>...</td>\n",
              "      <td>...</td>\n",
              "      <td>...</td>\n",
              "      <td>...</td>\n",
              "      <td>...</td>\n",
              "      <td>...</td>\n",
              "      <td>...</td>\n",
              "      <td>...</td>\n",
              "      <td>...</td>\n",
              "      <td>...</td>\n",
              "      <td>...</td>\n",
              "      <td>...</td>\n",
              "      <td>...</td>\n",
              "      <td>...</td>\n",
              "      <td>...</td>\n",
              "      <td>...</td>\n",
              "      <td>...</td>\n",
              "      <td>...</td>\n",
              "      <td>...</td>\n",
              "      <td>...</td>\n",
              "      <td>...</td>\n",
              "      <td>...</td>\n",
              "      <td>...</td>\n",
              "      <td>...</td>\n",
              "      <td>...</td>\n",
              "      <td>...</td>\n",
              "      <td>...</td>\n",
              "      <td>...</td>\n",
              "      <td>...</td>\n",
              "      <td>...</td>\n",
              "      <td>...</td>\n",
              "      <td>...</td>\n",
              "      <td>...</td>\n",
              "      <td>...</td>\n",
              "      <td>...</td>\n",
              "      <td>...</td>\n",
              "      <td>...</td>\n",
              "      <td>...</td>\n",
              "      <td>...</td>\n",
              "      <td>...</td>\n",
              "      <td>...</td>\n",
              "    </tr>\n",
              "    <tr>\n",
              "      <th>155316</th>\n",
              "      <td>0</td>\n",
              "      <td>2017-03-30 15:20:35</td>\n",
              "      <td>2017-02-17</td>\n",
              "      <td>NaN</td>\n",
              "      <td>0</td>\n",
              "      <td>22940</td>\n",
              "      <td>&lt;p&gt;A live performance at Monty Hall on Feb 17,...</td>\n",
              "      <td>1506</td>\n",
              "      <td>Monty Hall</td>\n",
              "      <td>[]</td>\n",
              "      <td>Live at Monty Hall, 2/17/2017</td>\n",
              "      <td>6</td>\n",
              "      <td>Live Performance</td>\n",
              "      <td>NaT</td>\n",
              "      <td>NaT</td>\n",
              "      <td>NaN</td>\n",
              "      <td>NaN</td>\n",
              "      <td>0</td>\n",
              "      <td>2017-03-30 15:18:28</td>\n",
              "      <td>0</td>\n",
              "      <td>24357</td>\n",
              "      <td>NaN</td>\n",
              "      <td>New Jersey</td>\n",
              "      <td>NaN</td>\n",
              "      <td>GILLIAN/JENNA/DECLAN/JAIME</td>\n",
              "      <td>Spowder</td>\n",
              "      <td>NaN</td>\n",
              "      <td>[spowder]</td>\n",
              "      <td>https://spowder.bandcamp.com/</td>\n",
              "      <td>NaN</td>\n",
              "      <td>training</td>\n",
              "      <td>large</td>\n",
              "      <td>320000</td>\n",
              "      <td>0</td>\n",
              "      <td>NaN</td>\n",
              "      <td>2017-03-30 15:23:34</td>\n",
              "      <td>NaT</td>\n",
              "      <td>162</td>\n",
              "      <td>1</td>\n",
              "      <td>Rock</td>\n",
              "      <td>[25]</td>\n",
              "      <td>[25, 12]</td>\n",
              "      <td>NaN</td>\n",
              "      <td>122</td>\n",
              "      <td>NaN</td>\n",
              "      <td>Creative Commons Attribution-NonCommercial-NoD...</td>\n",
              "      <td>102</td>\n",
              "      <td>NaN</td>\n",
              "      <td>3</td>\n",
              "      <td>NaN</td>\n",
              "      <td>[]</td>\n",
              "      <td>The Auger</td>\n",
              "    </tr>\n",
              "    <tr>\n",
              "      <th>155317</th>\n",
              "      <td>0</td>\n",
              "      <td>2017-03-30 15:20:35</td>\n",
              "      <td>2017-02-17</td>\n",
              "      <td>NaN</td>\n",
              "      <td>0</td>\n",
              "      <td>22940</td>\n",
              "      <td>&lt;p&gt;A live performance at Monty Hall on Feb 17,...</td>\n",
              "      <td>1506</td>\n",
              "      <td>Monty Hall</td>\n",
              "      <td>[]</td>\n",
              "      <td>Live at Monty Hall, 2/17/2017</td>\n",
              "      <td>6</td>\n",
              "      <td>Live Performance</td>\n",
              "      <td>NaT</td>\n",
              "      <td>NaT</td>\n",
              "      <td>NaN</td>\n",
              "      <td>NaN</td>\n",
              "      <td>0</td>\n",
              "      <td>2017-03-30 15:18:28</td>\n",
              "      <td>0</td>\n",
              "      <td>24357</td>\n",
              "      <td>NaN</td>\n",
              "      <td>New Jersey</td>\n",
              "      <td>NaN</td>\n",
              "      <td>GILLIAN/JENNA/DECLAN/JAIME</td>\n",
              "      <td>Spowder</td>\n",
              "      <td>NaN</td>\n",
              "      <td>[spowder]</td>\n",
              "      <td>https://spowder.bandcamp.com/</td>\n",
              "      <td>NaN</td>\n",
              "      <td>training</td>\n",
              "      <td>large</td>\n",
              "      <td>320000</td>\n",
              "      <td>0</td>\n",
              "      <td>NaN</td>\n",
              "      <td>2017-03-30 15:23:36</td>\n",
              "      <td>NaT</td>\n",
              "      <td>217</td>\n",
              "      <td>1</td>\n",
              "      <td>Rock</td>\n",
              "      <td>[25]</td>\n",
              "      <td>[25, 12]</td>\n",
              "      <td>NaN</td>\n",
              "      <td>194</td>\n",
              "      <td>NaN</td>\n",
              "      <td>Creative Commons Attribution-NonCommercial-NoD...</td>\n",
              "      <td>165</td>\n",
              "      <td>NaN</td>\n",
              "      <td>4</td>\n",
              "      <td>NaN</td>\n",
              "      <td>[]</td>\n",
              "      <td>Let's Skin Ruby</td>\n",
              "    </tr>\n",
              "    <tr>\n",
              "      <th>155318</th>\n",
              "      <td>0</td>\n",
              "      <td>2017-03-30 15:20:35</td>\n",
              "      <td>2017-02-17</td>\n",
              "      <td>NaN</td>\n",
              "      <td>0</td>\n",
              "      <td>22940</td>\n",
              "      <td>&lt;p&gt;A live performance at Monty Hall on Feb 17,...</td>\n",
              "      <td>1506</td>\n",
              "      <td>Monty Hall</td>\n",
              "      <td>[]</td>\n",
              "      <td>Live at Monty Hall, 2/17/2017</td>\n",
              "      <td>6</td>\n",
              "      <td>Live Performance</td>\n",
              "      <td>NaT</td>\n",
              "      <td>NaT</td>\n",
              "      <td>NaN</td>\n",
              "      <td>NaN</td>\n",
              "      <td>0</td>\n",
              "      <td>2017-03-30 15:18:28</td>\n",
              "      <td>0</td>\n",
              "      <td>24357</td>\n",
              "      <td>NaN</td>\n",
              "      <td>New Jersey</td>\n",
              "      <td>NaN</td>\n",
              "      <td>GILLIAN/JENNA/DECLAN/JAIME</td>\n",
              "      <td>Spowder</td>\n",
              "      <td>NaN</td>\n",
              "      <td>[spowder]</td>\n",
              "      <td>https://spowder.bandcamp.com/</td>\n",
              "      <td>NaN</td>\n",
              "      <td>training</td>\n",
              "      <td>large</td>\n",
              "      <td>320000</td>\n",
              "      <td>0</td>\n",
              "      <td>NaN</td>\n",
              "      <td>2017-03-30 15:23:37</td>\n",
              "      <td>NaT</td>\n",
              "      <td>404</td>\n",
              "      <td>2</td>\n",
              "      <td>Rock</td>\n",
              "      <td>[25]</td>\n",
              "      <td>[25, 12]</td>\n",
              "      <td>NaN</td>\n",
              "      <td>214</td>\n",
              "      <td>NaN</td>\n",
              "      <td>Creative Commons Attribution-NonCommercial-NoD...</td>\n",
              "      <td>168</td>\n",
              "      <td>NaN</td>\n",
              "      <td>6</td>\n",
              "      <td>NaN</td>\n",
              "      <td>[]</td>\n",
              "      <td>My House Smells Like Kim Deal/Pulp</td>\n",
              "    </tr>\n",
              "    <tr>\n",
              "      <th>155319</th>\n",
              "      <td>0</td>\n",
              "      <td>2017-03-30 15:20:35</td>\n",
              "      <td>2017-02-17</td>\n",
              "      <td>NaN</td>\n",
              "      <td>0</td>\n",
              "      <td>22940</td>\n",
              "      <td>&lt;p&gt;A live performance at Monty Hall on Feb 17,...</td>\n",
              "      <td>1506</td>\n",
              "      <td>Monty Hall</td>\n",
              "      <td>[]</td>\n",
              "      <td>Live at Monty Hall, 2/17/2017</td>\n",
              "      <td>6</td>\n",
              "      <td>Live Performance</td>\n",
              "      <td>NaT</td>\n",
              "      <td>NaT</td>\n",
              "      <td>NaN</td>\n",
              "      <td>NaN</td>\n",
              "      <td>0</td>\n",
              "      <td>2017-03-30 15:18:28</td>\n",
              "      <td>0</td>\n",
              "      <td>24357</td>\n",
              "      <td>NaN</td>\n",
              "      <td>New Jersey</td>\n",
              "      <td>NaN</td>\n",
              "      <td>GILLIAN/JENNA/DECLAN/JAIME</td>\n",
              "      <td>Spowder</td>\n",
              "      <td>NaN</td>\n",
              "      <td>[spowder]</td>\n",
              "      <td>https://spowder.bandcamp.com/</td>\n",
              "      <td>NaN</td>\n",
              "      <td>training</td>\n",
              "      <td>large</td>\n",
              "      <td>320000</td>\n",
              "      <td>0</td>\n",
              "      <td>NaN</td>\n",
              "      <td>2017-03-30 15:23:39</td>\n",
              "      <td>NaT</td>\n",
              "      <td>146</td>\n",
              "      <td>0</td>\n",
              "      <td>Rock</td>\n",
              "      <td>[25]</td>\n",
              "      <td>[25, 12]</td>\n",
              "      <td>NaN</td>\n",
              "      <td>336</td>\n",
              "      <td>NaN</td>\n",
              "      <td>Creative Commons Attribution-NonCommercial-NoD...</td>\n",
              "      <td>294</td>\n",
              "      <td>NaN</td>\n",
              "      <td>5</td>\n",
              "      <td>NaN</td>\n",
              "      <td>[]</td>\n",
              "      <td>The Man With Two Mouths</td>\n",
              "    </tr>\n",
              "    <tr>\n",
              "      <th>155320</th>\n",
              "      <td>0</td>\n",
              "      <td>2017-03-26 16:22:18</td>\n",
              "      <td>2017-03-26</td>\n",
              "      <td>NaN</td>\n",
              "      <td>1</td>\n",
              "      <td>22906</td>\n",
              "      <td>NaN</td>\n",
              "      <td>7481</td>\n",
              "      <td>NaN</td>\n",
              "      <td>[ballad, epic, rockabilly, curse, hex, hard ro...</td>\n",
              "      <td>What I Tell Myself Vol. 2</td>\n",
              "      <td>11</td>\n",
              "      <td>Album</td>\n",
              "      <td>NaT</td>\n",
              "      <td>NaT</td>\n",
              "      <td>NaN</td>\n",
              "      <td>&lt;p&gt;****NOTE FOR USING OUR MUSIC ON YOUTUBE****...</td>\n",
              "      <td>1</td>\n",
              "      <td>2016-02-04 17:26:24</td>\n",
              "      <td>12</td>\n",
              "      <td>21615</td>\n",
              "      <td>NaN</td>\n",
              "      <td>Jersey City, NJ 07302</td>\n",
              "      <td>NaN</td>\n",
              "      <td>Alishia Taiping (lead vocals, bass) \\nDan Pier...</td>\n",
              "      <td>Forget the Whale</td>\n",
              "      <td>** PLEASE CONNECT WITH US THROUGH FACEBOOK! WE...</td>\n",
              "      <td>[forget the whale, witches, rockabilly, rb, rn...</td>\n",
              "      <td>NaN</td>\n",
              "      <td>NaN</td>\n",
              "      <td>validation</td>\n",
              "      <td>large</td>\n",
              "      <td>320000</td>\n",
              "      <td>0</td>\n",
              "      <td>NaN</td>\n",
              "      <td>2017-03-30 09:15:36</td>\n",
              "      <td>NaT</td>\n",
              "      <td>198</td>\n",
              "      <td>1</td>\n",
              "      <td>NaN</td>\n",
              "      <td>[10, 12, 169]</td>\n",
              "      <td>[169, 10, 12, 9]</td>\n",
              "      <td>NaN</td>\n",
              "      <td>972</td>\n",
              "      <td>NaN</td>\n",
              "      <td>Attribution-NonCommercial</td>\n",
              "      <td>705</td>\n",
              "      <td>NaN</td>\n",
              "      <td>7</td>\n",
              "      <td>NaN</td>\n",
              "      <td>[ballad, epic, rockabilly, curse, hex, hard ro...</td>\n",
              "      <td>Another Trick Up My Sleeve (Instrumental)</td>\n",
              "    </tr>\n",
              "  </tbody>\n",
              "</table>\n",
              "<p>106574 rows × 52 columns</p>\n",
              "</div>\n",
              "      <button class=\"colab-df-convert\" onclick=\"convertToInteractive('df-ddda9b2c-0328-4f86-8960-401f4fab1c8b')\"\n",
              "              title=\"Convert this dataframe to an interactive table.\"\n",
              "              style=\"display:none;\">\n",
              "        \n",
              "  <svg xmlns=\"http://www.w3.org/2000/svg\" height=\"24px\"viewBox=\"0 0 24 24\"\n",
              "       width=\"24px\">\n",
              "    <path d=\"M0 0h24v24H0V0z\" fill=\"none\"/>\n",
              "    <path d=\"M18.56 5.44l.94 2.06.94-2.06 2.06-.94-2.06-.94-.94-2.06-.94 2.06-2.06.94zm-11 1L8.5 8.5l.94-2.06 2.06-.94-2.06-.94L8.5 2.5l-.94 2.06-2.06.94zm10 10l.94 2.06.94-2.06 2.06-.94-2.06-.94-.94-2.06-.94 2.06-2.06.94z\"/><path d=\"M17.41 7.96l-1.37-1.37c-.4-.4-.92-.59-1.43-.59-.52 0-1.04.2-1.43.59L10.3 9.45l-7.72 7.72c-.78.78-.78 2.05 0 2.83L4 21.41c.39.39.9.59 1.41.59.51 0 1.02-.2 1.41-.59l7.78-7.78 2.81-2.81c.8-.78.8-2.07 0-2.86zM5.41 20L4 18.59l7.72-7.72 1.47 1.35L5.41 20z\"/>\n",
              "  </svg>\n",
              "      </button>\n",
              "      \n",
              "  <style>\n",
              "    .colab-df-container {\n",
              "      display:flex;\n",
              "      flex-wrap:wrap;\n",
              "      gap: 12px;\n",
              "    }\n",
              "\n",
              "    .colab-df-convert {\n",
              "      background-color: #E8F0FE;\n",
              "      border: none;\n",
              "      border-radius: 50%;\n",
              "      cursor: pointer;\n",
              "      display: none;\n",
              "      fill: #1967D2;\n",
              "      height: 32px;\n",
              "      padding: 0 0 0 0;\n",
              "      width: 32px;\n",
              "    }\n",
              "\n",
              "    .colab-df-convert:hover {\n",
              "      background-color: #E2EBFA;\n",
              "      box-shadow: 0px 1px 2px rgba(60, 64, 67, 0.3), 0px 1px 3px 1px rgba(60, 64, 67, 0.15);\n",
              "      fill: #174EA6;\n",
              "    }\n",
              "\n",
              "    [theme=dark] .colab-df-convert {\n",
              "      background-color: #3B4455;\n",
              "      fill: #D2E3FC;\n",
              "    }\n",
              "\n",
              "    [theme=dark] .colab-df-convert:hover {\n",
              "      background-color: #434B5C;\n",
              "      box-shadow: 0px 1px 3px 1px rgba(0, 0, 0, 0.15);\n",
              "      filter: drop-shadow(0px 1px 2px rgba(0, 0, 0, 0.3));\n",
              "      fill: #FFFFFF;\n",
              "    }\n",
              "  </style>\n",
              "\n",
              "      <script>\n",
              "        const buttonEl =\n",
              "          document.querySelector('#df-ddda9b2c-0328-4f86-8960-401f4fab1c8b button.colab-df-convert');\n",
              "        buttonEl.style.display =\n",
              "          google.colab.kernel.accessAllowed ? 'block' : 'none';\n",
              "\n",
              "        async function convertToInteractive(key) {\n",
              "          const element = document.querySelector('#df-ddda9b2c-0328-4f86-8960-401f4fab1c8b');\n",
              "          const dataTable =\n",
              "            await google.colab.kernel.invokeFunction('convertToInteractive',\n",
              "                                                     [key], {});\n",
              "          if (!dataTable) return;\n",
              "\n",
              "          const docLinkHtml = 'Like what you see? Visit the ' +\n",
              "            '<a target=\"_blank\" href=https://colab.research.google.com/notebooks/data_table.ipynb>data table notebook</a>'\n",
              "            + ' to learn more about interactive tables.';\n",
              "          element.innerHTML = '';\n",
              "          dataTable['output_type'] = 'display_data';\n",
              "          await google.colab.output.renderOutput(dataTable, element);\n",
              "          const docLink = document.createElement('div');\n",
              "          docLink.innerHTML = docLinkHtml;\n",
              "          element.appendChild(docLink);\n",
              "        }\n",
              "      </script>\n",
              "    </div>\n",
              "  </div>\n",
              "  "
            ],
            "text/plain": [
              "            album  ...                                      track\n",
              "         comments  ...                                      title\n",
              "track_id           ...                                           \n",
              "2               0  ...                                       Food\n",
              "3               0  ...                               Electric Ave\n",
              "5               0  ...                                 This World\n",
              "10              0  ...                                    Freeway\n",
              "20              0  ...                            Spiritual Level\n",
              "...           ...  ...                                        ...\n",
              "155316          0  ...                                  The Auger\n",
              "155317          0  ...                            Let's Skin Ruby\n",
              "155318          0  ...         My House Smells Like Kim Deal/Pulp\n",
              "155319          0  ...                    The Man With Two Mouths\n",
              "155320          0  ...  Another Trick Up My Sleeve (Instrumental)\n",
              "\n",
              "[106574 rows x 52 columns]"
            ]
          },
          "metadata": {},
          "execution_count": 151
        }
      ]
    },
    {
      "cell_type": "code",
      "source": [
        "a = []\n",
        "for i in features.keys():\n",
        "    a.append(i[1])\n",
        "np.unique(a)"
      ],
      "metadata": {
        "colab": {
          "base_uri": "https://localhost:8080/"
        },
        "id": "iuaAgPYC-OTB",
        "outputId": "765aaa79-4d88-472e-9497-12564a33c036"
      },
      "execution_count": null,
      "outputs": [
        {
          "output_type": "execute_result",
          "data": {
            "text/plain": [
              "array(['kurtosis', 'max', 'mean', 'median', 'min', 'skew', 'std'],\n",
              "      dtype='<U8')"
            ]
          },
          "metadata": {},
          "execution_count": 89
        }
      ]
    },
    {
      "cell_type": "code",
      "source": [
        "train_indexes.shape"
      ],
      "metadata": {
        "colab": {
          "base_uri": "https://localhost:8080/"
        },
        "id": "4R6SXUqz-P7r",
        "outputId": "3bf24f91-b84d-4beb-87db-223f1866d160"
      },
      "execution_count": null,
      "outputs": [
        {
          "output_type": "execute_result",
          "data": {
            "text/plain": [
              "(987,)"
            ]
          },
          "metadata": {},
          "execution_count": 51
        }
      ]
    },
    {
      "cell_type": "code",
      "source": [
        "features.keys()"
      ],
      "metadata": {
        "colab": {
          "base_uri": "https://localhost:8080/"
        },
        "id": "gtexia6g_EJ1",
        "outputId": "f7d935f5-a0e5-4474-b30e-f2901445430c"
      },
      "execution_count": null,
      "outputs": [
        {
          "output_type": "execute_result",
          "data": {
            "text/plain": [
              "MultiIndex([('chroma_cens', 'kurtosis', '01'),\n",
              "            ('chroma_cens', 'kurtosis', '02'),\n",
              "            ('chroma_cens', 'kurtosis', '03'),\n",
              "            ('chroma_cens', 'kurtosis', '04'),\n",
              "            ('chroma_cens', 'kurtosis', '05'),\n",
              "            ('chroma_cens', 'kurtosis', '06'),\n",
              "            ('chroma_cens', 'kurtosis', '07'),\n",
              "            ('chroma_cens', 'kurtosis', '08'),\n",
              "            ('chroma_cens', 'kurtosis', '09'),\n",
              "            ('chroma_cens', 'kurtosis', '10'),\n",
              "            ...\n",
              "            (    'tonnetz',      'std', '04'),\n",
              "            (    'tonnetz',      'std', '05'),\n",
              "            (    'tonnetz',      'std', '06'),\n",
              "            (        'zcr', 'kurtosis', '01'),\n",
              "            (        'zcr',      'max', '01'),\n",
              "            (        'zcr',     'mean', '01'),\n",
              "            (        'zcr',   'median', '01'),\n",
              "            (        'zcr',      'min', '01'),\n",
              "            (        'zcr',     'skew', '01'),\n",
              "            (        'zcr',      'std', '01')],\n",
              "           names=['feature', 'statistics', 'number'], length=518)"
            ]
          },
          "metadata": {},
          "execution_count": 159
        }
      ]
    },
    {
      "cell_type": "code",
      "source": [],
      "metadata": {
        "id": "e_Jb5tlv_I9O"
      },
      "execution_count": null,
      "outputs": []
    }
  ]
}